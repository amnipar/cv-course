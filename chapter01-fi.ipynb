{
 "cells": [
  {
   "cell_type": "markdown",
   "metadata": {},
   "source": [
    "*Huomaa: käyttääksesi tätä työkirjaa, ympäristössäsi on oltava asennettuna paketit numpy ja matplotlib.*"
   ]
  },
  {
   "cell_type": "code",
   "execution_count": null,
   "metadata": {
    "collapsed": true
   },
   "outputs": [],
   "source": [
    "from math import *\n",
    "import numpy as np\n",
    "import matplotlib.pyplot as plt\n",
    "%matplotlib inline"
   ]
  },
  {
   "cell_type": "markdown",
   "metadata": {},
   "source": [
    "\n",
    "# Kuvanmuodostus ja näytteistys\n",
    "\n",
    "Tässä luvussa tutustumme kuviin, niiden esitysmuotoihin ja matemaattisiin\n",
    "tulkintoihin. Opimme mitä signaalit ovat ja mitä näytteistys ja interpolointi\n",
    "tarkoittavat. Tutustumme myös kuvien yksinkertaisiin matemaattisiin\n",
    "operaatioihin ja kohteiden irrottamiseen kynnystyksen avulla.\n",
    "\n",
    "Käytännöllisiä asioita tällä kerralla:\n",
    "\n",
    "* näytteistyksen kokeilua yksiulotteisella signaalilla,\n",
    "* kuvamatematiikkaa,\n",
    "* kuvien kynnystystä.\n",
    "\n",
    "## Kuvanmuodostus\n",
    "\n",
    "Palautetaan ensimmäisenä mieleen, millä tavoin kuvat muodostuvat. Sama periaate\n",
    "pätee niin alkeelliseen neulanreikäkameraan ja objektiivilla varustettuun\n",
    "filmikameraan tai digitaaliseen kameraan kuin myös elävien olentojen silmiin.\n",
    "\n",
    "Kuva muodostuu, kun tarkasteltava kolmiulotteinen näkymä projisoidaan eli\n",
    "heijastetaan kaksiulotteiselle pinnalle. Tältä pinnalta kuva voidaan taltioida\n",
    "valokuvausfilmille, lukea digitaalisella kuvasensorilla tai havaita silmän\n",
    "verkkokalvon valoherkillä aistinsoluilla. Tällä tavoin *jatkuvasta*\n",
    "kuvasignaalista muodostuu *diskreetti* eli eroteltu, epäjatkuva tallenne.\n",
    "Tällaista epäjatkuvaa signaalia kutsutaan yleensä *näytteistetyksi* signaaliksi.\n",
    "\n",
    "Huomautus: koska näkymästä heijastuva valo koostuu joukosta erillisiä fotoneja,\n",
    "kuvasignaalia voitaisiin pitää tietyssä mielessä diskreettinä. On mahdollista\n",
    "rakentaa laitteita, jotka mittaavat yksittäisiä fotoneja. On myös kehitetty\n",
    "*valokenttäkameroita* (engl. *light field camera*), jotka mittaavat yksittäisten\n",
    "fotonien saapumissuunnan. Koska tyypillisissä valokuvissa fotonien määrä on\n",
    "kuitenkin sangen suuri, voidaan tämän luvun kannalta katsoa valon intensiteetti\n",
    "jatkuvaksi funktioksi, joka muodostuu jonkinlaisesta todennäköisyysjakaumasta\n",
    "fotonin havaitsemiselle tietyssä kuvapinnan pisteessä. Kvanttimekaniikan ilmiöt\n",
    "ja epätarkkuusperiaate tekevät fotonien havaitsemisesta joka tapauksessa enemmän\n",
    "tai vähemmän epätarkkaa.\n",
    "\n",
    "## Signaalit\n",
    "\n",
    "\n",
    "Signaalit kuvaavat erilaisia kiinnostavia fyysisiä suureita, jotka vaihtelevat\n",
    "ajan suhteen ja joskus myös tilan suhteen. Tyypillisesti signaaleissa\n",
    "kiinnostavaa ovat nimenomaan jonkin fyysisen suureen, kuten äänenpaineen tai\n",
    "valon intensiteetin *vaihtelut*, joita voidaan kuvata eri taajuuksilla\n",
    "tapahtuvien säännöllisten muutosten summana. Näitä niin kutsuttuja\n",
    "*taajuuskomponentteja* voidaan kuvata siniaaltoina, joiden heilahtelunopeus,\n",
    "heilahtelun laajuus ja heilahtelun alkamiskohta vaihtelevat. Myöhemmin, kun\n",
    "käsittelemme Fourier-muunnosta, palaamme tähän aiheeseen tarkemmin. Tässä\n",
    "vaiheessa riittää ymmärtää, että mikä tahansa signaali on purettavissa summaksi\n",
    "tällaisia säännöllisiä vaihteluita."
   ]
  },
  {
   "cell_type": "markdown",
   "metadata": {},
   "source": [
    "### Tehtävä 2.1\n",
    "\n",
    "Seuraavassa koodiesimerkissä rakennetaan keinotekoisia signaaleja summaamalla siniaaltoina esitettyjä taajuuskomponentteja. Voit kokeilla eri parametrien arvoja ja havainnoida niiden vaikutuksia. Kokeile muuttaa numeroarvoja kahdessa parametrilistassa (*amplitudes* ja *phases*). Halutessasi voit kokeilla muuttaa myös komponenttien määrää ja taajuuksia (*frequencies*), mutta pidä huoli siitä, että taulukoissa on oikea määrä elementtejä.\n",
    "\n",
    "Solun koodin voi suorittaa painamalla Shift+Enter.\n",
    "\n",
    "Kerro havainnoistasi ja yritä selvittää itsellesi, mitä kukin parametreista *frequency*, *amplitude*, *phase* tekee. Huomioi, miten kutakin niistä käytetään funktion arvon laskemiseen. Mitkä asiat vaikuttavat lopputuloksena syntyvään signaaliin, joka on piirretty kuvaan paksulla vihreällä viivalla?"
   ]
  },
  {
   "cell_type": "code",
   "execution_count": null,
   "metadata": {},
   "outputs": [],
   "source": [
    "x = np.linspace(0, 2*pi, num=100, endpoint=True)\n",
    "components = 5\n",
    "y_offset = 8 # moves signal up so that the value is always non-negative; may need to be changed based on amplitudes\n",
    "frequencies = [1, 2, 7, 4, 5]\n",
    "amplitudes = [2, 0.5, 1, 2, 0.5]\n",
    "phases = [0, pi/4, pi/8, 3*pi/4, 0]\n",
    "\n",
    "def freq_comp(i):\n",
    "    return lambda x : amplitudes[i] * np.sin(frequencies[i] * x + phases[i])\n",
    "\n",
    "def signal(x):\n",
    "    return sum([freq_comp(i)(x) for i in range(0, components)])\n",
    "\n",
    "for i in range(0, components):\n",
    "    _ = plt.plot(x, freq_comp(i)(x) + y_offset, 'r:')\n",
    "\n",
    "_ = plt.plot(x, signal(x) + y_offset, 'g-', linewidth=2)"
   ]
  },
  {
   "cell_type": "markdown",
   "metadata": {},
   "source": [
    "## Näytteistys\n",
    "\n",
    "Signaalit ovat yleensä *jatkuvia*, mutta elektronisilla laitteilla voidaan\n",
    "analysoida lähinnä yksittäisinä numeroina tallennettavia suureita.\n",
    "**Näytteistys** tarkoittaa jatkuvan signaalin tallentamista lukemalla signaalin\n",
    "arvoja rajallisessa joukossa näytepisteitä. Ajan suhteen muuttuvaa signaalia,\n",
    "kuten ääntä, voidaan näytteistää lukemalla signaalin voimakkuutta tietyin\n",
    "väliajoin. Kuvasignaali muuttuu sekä tilassa että ajassa, joten kuvasignaalia\n",
    "näytteistetään lukemalla valon kirkkautta yhtä aikaa useista näytepisteistä\n",
    "pinnalta, jolle kuva on projisoitu.\n",
    "\n",
    "Niinsanottu *Nyquistin näytteistystaajuus* (engl. *Nyquist rate*) liittyy\n",
    "signaalin muutostaajuuteen. Jos signaalin nopeimmat muutokset tapahtuvat\n",
    "taajuudella $k$ kertaa sekunnissa, silloin näytteistämällä $2k$ näytettä\n",
    "sekunnissa saadaan signaalin muutokset talteen riittävällä tarkkuudella sen\n",
    "uudelleenrakentamista varten. Tällöin taajuus $2k$ on tämän signaalin Nyquistin\n",
    "näytteistystaajuus.\n",
    "\n",
    "Seuraavassa koodiesimerkissä näytteistetään edellä generoitua signaalia.\n",
    "Muuttujan *signal_frequency* pitäisi olla sama kuin suurin arvo taulukossa\n",
    "*frequencies* edellä. Tässä se on jätetty vapaavalintaiseksi, jotta eri\n",
    "arvojen vaikutusta voi kokeilla."
   ]
  },
  {
   "cell_type": "code",
   "execution_count": null,
   "metadata": {},
   "outputs": [],
   "source": [
    "signal_frequency = 5\n",
    "x_sampled = np.linspace(0, 2 * pi, 2 * signal_frequency, endpoint=True)\n",
    "y_sampled = signal(x_sampled) + 8\n",
    "p = plt.plot(x, signal(x) + 8, 'g-', linewidth=2)\n",
    "p = plt.stem(x_sampled, y_sampled, 'b:')"
   ]
  },
  {
   "cell_type": "code",
   "execution_count": null,
   "metadata": {},
   "outputs": [],
   "source": [
    "from scipy.interpolate import interp1d\n",
    "\n",
    "sig_linear = interp1d(x_sampled, y_sampled)\n",
    "sig_cubic = interp1d(x_sampled, y_sampled, kind='cubic')\n",
    "\n",
    "p = plt.plot(x, signal(x) + 8, 'go')\n",
    "p = plt.plot(x, sig_linear(x), 'b-')\n",
    "p = plt.plot(x, sig_cubic(x), 'r-')\n",
    "p = plt.plot(x_sampled, y_sampled, 'bo')"
   ]
  },
  {
   "cell_type": "code",
   "execution_count": null,
   "metadata": {
    "collapsed": true
   },
   "outputs": [],
   "source": []
  }
 ],
 "metadata": {
  "kernelspec": {
   "display_name": "Python 3",
   "language": "python",
   "name": "python3"
  },
  "language_info": {
   "codemirror_mode": {
    "name": "ipython",
    "version": 3
   },
   "file_extension": ".py",
   "mimetype": "text/x-python",
   "name": "python",
   "nbconvert_exporter": "python",
   "pygments_lexer": "ipython3",
   "version": "3.6.3"
  }
 },
 "nbformat": 4,
 "nbformat_minor": 2
}
