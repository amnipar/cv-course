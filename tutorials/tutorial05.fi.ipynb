{
 "cells": [
  {
   "cell_type": "markdown",
   "metadata": {},
   "source": [
    "# Tutoriaali 5: Reunojen ja nurkkien etsiminen\n",
    "\n",
    "Tällä kerralla ryhdymme kokeilemaan reunojen etsimistä kuvista. Aiheeseen\n",
    "palataan vielä skaala-avaruuksien yhteydessä, ja reunakäyrien ketjutukseen ja\n",
    "piirteytykseen tunnistamistarkoituksia varten tutustumme kurssin loppupuolella.\n",
    "\n",
    "Ota aluksi käyttöön tarvittavat kirjastot suorittamalla alla oleva solu."
   ]
  },
  {
   "cell_type": "code",
   "execution_count": null,
   "metadata": {
    "collapsed": true
   },
   "outputs": [],
   "source": [
    "import math\n",
    "import cv2 as cv\n",
    "import numpy as np\n",
    "import matplotlib.pyplot as plt\n",
    "%matplotlib inline"
   ]
  },
  {
   "cell_type": "markdown",
   "metadata": {},
   "source": [
    "Reunan helpomman hahmottamisen vuoksi käytämme aluksi yksinkertaista\n",
    "ympyräkuvaa. Loppupuolen nurkkien etsimisessä tuttu neliökuva on sopivampi."
   ]
  },
  {
   "cell_type": "code",
   "execution_count": null,
   "metadata": {
    "collapsed": true
   },
   "outputs": [],
   "source": [
    "size = (401,401)\n",
    "h,w = size\n",
    "dy = h/2\n",
    "dx = w/2\n",
    "\n",
    "def testMask(y,x):\n",
    "    return np.sqrt((y-dy)**2 + (x-dx)**2) < dx-80\n",
    "\n",
    "img = cv.blur(np.float32(np.fromfunction(testMask, size, dtype=np.float32)),(3,3))\n",
    "\n",
    "plt.figure(figsize=(5,5))\n",
    "_ = plt.xticks(()),plt.yticks(()),plt.imshow(img, cmap=\"gist_gray\"),plt.title('original')"
   ]
  },
  {
   "cell_type": "markdown",
   "metadata": {},
   "source": [
    "## Gradientin muodostaminen\n",
    "\n",
    "Perinteinen, edelleen melko yleisesti käytetty tapa gradientin laskemiseen on\n",
    "Sobelin operaattoreilla konvolvoiminen:\n",
    "\n",
    "<http://docs.opencv.org/2.4.13/modules/imgproc/doc/filtering.html#sobel>"
   ]
  },
  {
   "cell_type": "code",
   "execution_count": null,
   "metadata": {
    "collapsed": true
   },
   "outputs": [],
   "source": [
    "gx = cv.Sobel(img, ddepth=cv.CV_32F, dx=1, dy=0, ksize=5)\n",
    "gy = cv.Sobel(img, ddepth=cv.CV_32F, dx=0, dy=1, ksize=5)\n",
    "\n",
    "plt.figure(figsize=(10,5))\n",
    "_ = plt.subplot(121),plt.xticks(()),plt.yticks(()),plt.imshow(gx,cmap=\"gist_gray\"),plt.title('dx')\n",
    "_ = plt.subplot(122),plt.xticks(()),plt.yticks(()),plt.imshow(gy,cmap=\"gist_gray\"),plt.title('dy')"
   ]
  },
  {
   "cell_type": "markdown",
   "metadata": {},
   "source": [
    "## Cannyn reunanhaku\n",
    "\n",
    "Käytetyin valmis reunanhakumenetelmä on varmaankin Cannyn reunanhaku. \n",
    "\n",
    "<http://docs.opencv.org/2.4.13/modules/imgproc/doc/feature_detection.html#canny>\n",
    "\n",
    "Sen heikkous on, että se toimii vain 8-bittisillä kuvilla, ja se vaatii kahden\n",
    "kynnysarvon määrittämisen. Nämä eivät ole kovin herkkiä parametreja, mutta\n",
    "tietty valinta ei kuitenkaan välttämättä toimi suoraan kaikilla kuvilla. Cannyn\n",
    "menetelmä käyttää Sobelin maskeja, joiden koon voi valita arvoista 3, 5, 7. Nämä\n",
    "vaihtoehdot eivät välttämättä riitä kaikkiin tilanteisiin."
   ]
  },
  {
   "cell_type": "code",
   "execution_count": null,
   "metadata": {
    "collapsed": true
   },
   "outputs": [],
   "source": [
    "# voit kokeilla käyttää myös suodatettua kuvaa\n",
    "#blur = cv.GaussianBlur(img, (9, 9), 0)\n",
    "# ei tarvitse muuttaa tavuiksi, jos luet kuvan tiedostosta\n",
    "edges = cv.Canny(np.uint8(255*img), 10, 100, apertureSize=5, L2gradient=True)\n",
    "\n",
    "plt.figure(figsize=(5,5))\n",
    "_ = plt.xticks(()),plt.yticks(()),plt.imshow(edges, cmap=\"gist_gray\"),plt.title('canny')"
   ]
  },
  {
   "cell_type": "markdown",
   "metadata": {},
   "source": [
    "## Ensimmäisen asteen derivaatan ääriarvojen etsiminen\n",
    "\n",
    "Cannyn menetelmä perustuu ensimmäisen asteen derivaatan ääriarvojen etsimiseen.\n",
    "Tämä vaatii periaatteessa gradientin suunnan laskemisen ja naapuripikselien\n",
    "arvojen vertailua gradientin suunnassa (reunan suuntaa vastaan). Lisäksi\n",
    "täytyisi pitää kirjaa siitä, ovatko naapuripikselit suurempia vai pienempiä kuin\n",
    "tutkittava pikseli. Tyypillisesti ei ole kuitenkaan merkitystä sillä, onko\n",
    "reunalla derivaatan maksimi vai minimi, eli muuttuuko kuva vaaleammaksi vai\n",
    "tummemmaksi. Tämän vuoksi yleensä käytetäänkin gradientin magnitudia, joka\n",
    "saadaan laskettua samalla kuin suuntakin tuttuun tapaan muuntamalla gradientti\n",
    "napakoordinaatteihin.\n",
    "\n",
    "Lasketaan kuitenkin ensin osittaisderivaatat Sobelin sijaan käyttäen yleisiä\n",
    "derivaattamaskeja."
   ]
  },
  {
   "cell_type": "code",
   "execution_count": null,
   "metadata": {
    "collapsed": true
   },
   "outputs": [],
   "source": [
    "kdxx,kdxy = cv.getDerivKernels(dx=1, dy=0, ksize=15, ktype=cv.CV_32F, normalize=1)\n",
    "kdyx,kdyy = cv.getDerivKernels(dx=0, dy=1, ksize=15, ktype=cv.CV_32F, normalize=1)\n",
    "\n",
    "plt.figure(figsize=(10,5))\n",
    "_ = plt.subplot(121),plt.xticks(()),plt.yticks(()),plt.imshow(np.dot(kdxx,kdxy.T),cmap=\"gist_gray\"),plt.title('dx')\n",
    "_ = plt.subplot(122),plt.xticks(()),plt.yticks(()),plt.imshow(np.dot(kdyx,kdyy.T),cmap=\"gist_gray\"),plt.title('dy')"
   ]
  },
  {
   "cell_type": "markdown",
   "metadata": {},
   "source": [
    "Hyvänä puolena tässä lähestymistavassa on se, että derivaatan asteen ja maskin\n",
    "koon voi valita vapaasti. Tuloksena ovat maskit ovat separoituvia, eli riveille\n",
    "ja sarakkeille on omat maskinsa nopeampaa laskentaa varten. Kuten huomataan,\n",
    "yllä muodostamme maskeista kaksiulotteisen matriisin kertomalla toisen maskin\n",
    "toisen transpoosilla. Separoituvien ytimien käyttämiseen on oma funktionsa,\n",
    "`cv.sepFilter2D()`."
   ]
  },
  {
   "cell_type": "code",
   "execution_count": null,
   "metadata": {
    "collapsed": true
   },
   "outputs": [],
   "source": [
    "sdx = cv.sepFilter2D(np.float32(img), ddepth=cv.CV_32F, kernelX=kdxx, kernelY=kdxy)\n",
    "sdy = cv.sepFilter2D(np.float32(img), ddepth=cv.CV_32F, kernelX=kdyx, kernelY=kdyy)\n",
    "\n",
    "plt.figure(figsize=(10,5))\n",
    "_ = plt.subplot(121),plt.xticks(()),plt.yticks(()),plt.imshow(sdx,cmap=\"gist_gray\"),plt.title('dx')\n",
    "_ = plt.subplot(122),plt.xticks(()),plt.yticks(()),plt.imshow(sdy,cmap=\"gist_gray\"),plt.title('dy')"
   ]
  },
  {
   "cell_type": "markdown",
   "metadata": {},
   "source": [
    "Nyt voimme laskea gradientin magnitudin ja suunnan. On syytä huomata, että suunta on väliltä $[0,2 \\pi]$, kun taas arkustangenttia `cv.atan2()` käyttäessä tulos olisi välillä $[-\\pi, \\pi]$."
   ]
  },
  {
   "cell_type": "code",
   "execution_count": null,
   "metadata": {
    "collapsed": true
   },
   "outputs": [],
   "source": [
    "mag, ang = cv.cartToPolar(sdx, sdy)\n",
    "\n",
    "plt.figure(figsize=(10,5))\n",
    "_ = plt.subplot(121),plt.xticks(()),plt.yticks(()),plt.imshow(mag,cmap=\"gist_gray\"),plt.title('magnitude')\n",
    "_ = plt.subplot(122),plt.xticks(()),plt.yticks(()),plt.imshow(ang,cmap=\"gist_gray\"),plt.title('angle')"
   ]
  },
  {
   "cell_type": "markdown",
   "metadata": {},
   "source": [
    "Koska naapuripikseleitä on vain neljässä eri suunnassa, kvantisoimme seuraavaksi\n",
    "gradientin suunnan neljään pääsuuntaan (vaakasuora, pystysuora ja kaksi\n",
    "vinosuuntaa). Lisäksi jätämme huomiotta liian pienet gradientin arvot\n",
    "käyttämällä magnitudin mukaan muodostettua maskia. Käytämme suuntien tyyppinä\n",
    "kokonaislukuja vertailun helpottamiseksi seuraavassa vaiheessa; yhtä hyvin\n",
    "voisimme käyttää myös tavuja."
   ]
  },
  {
   "cell_type": "code",
   "execution_count": null,
   "metadata": {
    "collapsed": true
   },
   "outputs": [],
   "source": [
    "def quantize_angle(a):\n",
    "    if a < (1 * math.pi / 8):\n",
    "        return 1\n",
    "    elif a < (3 * math.pi / 8):\n",
    "        return 2\n",
    "    elif a < (5 * math.pi / 8):\n",
    "        return 3\n",
    "    elif a < (7 * math.pi / 8):\n",
    "        return 4\n",
    "    elif a < (9 * math.pi / 8):\n",
    "        return 1\n",
    "    elif a < (11 * math.pi / 8):\n",
    "        return 2\n",
    "    elif a < (13 * math.pi / 8):\n",
    "        return 3\n",
    "    elif a < (15 * math.pi / 8):\n",
    "        return 4\n",
    "    else:\n",
    "        return 1\n",
    "\n",
    "mmag = mag > 0.05\n",
    "qang = np.vectorize(quantize_angle,otypes=[np.int32])(ang)\n",
    "mang = np.float32(mmag)*np.float32(qang) / 4\n",
    "\n",
    "plt.figure(figsize=(10,5))\n",
    "_ = plt.subplot(121),plt.xticks(()),plt.yticks(()),plt.imshow(mmag,cmap=\"gist_gray\"),plt.title('masked magnitude')\n",
    "_ = plt.subplot(122),plt.xticks(()),plt.yticks(()),plt.imshow(mang,cmap=\"gist_gray\"),plt.title('quantized angle')"
   ]
  },
  {
   "cell_type": "markdown",
   "metadata": {},
   "source": [
    "Käytetään nyt gradientin magnitudia ja kvantisoitua suuntaa päättelemään, mitkä\n",
    "pikselit ovat derivaatan lokaaleja ääriarvoja. Suunta kertoo meille, mitkä\n",
    "naapuripikselit on tarkistettava. Merkitsemme reunan sinne, missä molemmissa\n",
    "gradientin suuntaisissa naapuripikseleissä on pienempi tai yhtäsuuri magnitudin\n",
    "arvo."
   ]
  },
  {
   "cell_type": "code",
   "execution_count": null,
   "metadata": {
    "collapsed": true
   },
   "outputs": [],
   "source": [
    "eimg = np.zeros(img.shape,dtype=np.float32)\n",
    "edges = np.argwhere(mag > 0.05)\n",
    "for y,x in edges:\n",
    "    if qang[y,x] == 1: # pystysuora reuna\n",
    "        if (mag[y,x-1] <= mag[y,x]) and (mag[y,x+1] <= mag[y,x]):\n",
    "            eimg[y,x] = 1\n",
    "    if qang[y,x] == 2: # alhaalta ylös suuntautuva vino reuna\n",
    "        if (mag[y-1,x-1] <= mag[y,x]) and (mag[y+1,x+1] <= mag[y,x]):\n",
    "            eimg[y,x] = 1\n",
    "    if qang[y,x] == 3: # vaakasuora reuna\n",
    "        if (mag[y-1,x] <= mag[y,x]) and (mag[y+1,x] <= mag[y,x]):\n",
    "            eimg[y,x] = 1\n",
    "    if qang[y,x] == 4: # ylhäältä alas suuntautuva vino reuna\n",
    "        if (mag[y-1,x+1] <= mag[y,x]) and (mag[y+1,x-1] <= mag[y,x]):\n",
    "            eimg[y,x] = 1\n",
    "\n",
    "plt.figure(figsize=(5,5))\n",
    "_ = plt.xticks(()),plt.yticks(()),plt.imshow(eimg, cmap=\"gist_gray\"),plt.title('edges')"
   ]
  },
  {
   "cell_type": "markdown",
   "metadata": {},
   "source": [
    "Osa reunoista jää merkitsemättä varmaankin sen takia, että kyseisessä kohdassa\n",
    "pikseli ei ole absoluuttisesti naapureitaan suurempi oletetussa gradientin\n",
    "suunnassa. Huomaamme, että näitä kohtia on erityisesti vinoilla osuuksilla.\n",
    "Tulosta voisi parantaa sillä, että tutkisi myös viereiset suunnat, jos\n",
    "ensisijaisesta suunnasta ei löydy ääriarvoa.\n",
    "\n",
    "Huomaamme myös, että parissa kohdassa reunasta on tullut kahden pikselin\n",
    "levyinen. Tämän voisi yrittää välttää sillä, että ei hyväksy yhtäsuuruutta\n",
    "vertailussa; float-liukuluvun tarkkuus ei välttämättä riitä tässä tapauksessa\n",
    "löytämään kaikkia reunakohtia, mutta tilannetta voisi parantaa käyttämällä\n",
    "double-liukulukuja pikselien arvoina ja pehmentämällä double-muotoista kuvaa\n",
    "ensin pikselien arvojen levittämiseksi ennen derivaatan laskemista.\n",
    "\n",
    "Reunassa olevia aukkoja voisi yrittää paikata myös tutkimalla reunanpätkien\n",
    "päissä olevien pikselien naapureita *reunan* (ei gradientin) suunnassa.\n",
    "\n",
    "Kaiken kaikkiaan huomaamme kuitenkin, että tulos on hyvin samankaltainen kuin\n",
    "Cannyn reunanhaulla. Lisäksi tässä menetelmässä on käytetty vain yhtä\n",
    "kynnysarvoa, eikä menetelmä ole kovin herkkä valitulle arvolle. Lähinnä sen\n",
    "tarkoitus on karsia pois ilmiselvästi liian heikot gradientin arvot\n",
    "ylimääräisten reunojen välttämiseksi."
   ]
  },
  {
   "cell_type": "markdown",
   "metadata": {},
   "source": [
    "## Toisen asteen derivaatan nollakohtien etsiminen\n",
    "\n",
    "Kuten tiedämme, ensimmäisen asteen derivaatan ääriarvot ovat kohdissa, joissa\n",
    "toisen asteen derivaatalla on nollakohta. Nollakohta on helpompi tunnistaa kuin\n",
    "ääriarvo, joten kokeillaan seuraavaksi reunanhakua tällä tavoin.\n",
    "\n",
    "Osittaisderivaattojen laskemiseen tarvittavat maskit voidaan luoda samalla\n",
    "tavoin kuin ensimmäisen asteen derivaattojenkin kohdalla. Kuten muistamme,\n",
    "osittaisderivaattoja on kolme: voidaan derivoida joko kaksi kertaa $x$:n tai\n",
    "$y$:n suhteen, tai kerran molempien suhteen."
   ]
  },
  {
   "cell_type": "code",
   "execution_count": null,
   "metadata": {
    "collapsed": true
   },
   "outputs": [],
   "source": [
    "kdx2x,kdx2y = cv.getDerivKernels(dx=2, dy=0, ksize=15, ktype=cv.CV_32F, normalize=1)\n",
    "kdy2x,kdy2y = cv.getDerivKernels(dx=0, dy=2, ksize=15, ktype=cv.CV_32F, normalize=1)\n",
    "kdxdyx,kdxdyy = cv.getDerivKernels(dx=1, dy=1, ksize=15, ktype=cv.CV_32F, normalize=1)\n",
    "\n",
    "plt.figure(figsize=(15,5))\n",
    "_ = plt.subplot(131),plt.xticks(()),plt.yticks(()),plt.imshow(np.dot(kdx2x,kdx2y.T),cmap=\"gist_gray\"),plt.title('dx2')\n",
    "_ = plt.subplot(132),plt.xticks(()),plt.yticks(()),plt.imshow(np.dot(kdy2x,kdy2y.T),cmap=\"gist_gray\"),plt.title('dy2')\n",
    "_ = plt.subplot(133),plt.xticks(()),plt.yticks(()),plt.imshow(np.dot(kdxdyx,kdxdyy.T),cmap=\"gist_gray\"),plt.title('dxdy')"
   ]
  },
  {
   "cell_type": "markdown",
   "metadata": {},
   "source": [
    "Osittaisderivaatat laskemme samalla tavoin kuin edellä."
   ]
  },
  {
   "cell_type": "code",
   "execution_count": null,
   "metadata": {
    "collapsed": true
   },
   "outputs": [],
   "source": [
    "sdx2 = cv.sepFilter2D(np.float32(img), ddepth=cv.CV_32F, kernelX=kdx2x, kernelY=kdx2y)\n",
    "sdy2 = cv.sepFilter2D(np.float32(img), ddepth=cv.CV_32F, kernelX=kdy2x, kernelY=kdy2y)\n",
    "sdxdy = cv.sepFilter2D(np.float32(img), ddepth=cv.CV_32F, kernelX=kdxdyx, kernelY=kdxdyy)\n",
    "\n",
    "plt.figure(figsize=(15,5))\n",
    "_ = plt.subplot(131),plt.xticks(()),plt.yticks(()),plt.imshow(sdx2,cmap=\"gist_gray\"),plt.title('dx2')\n",
    "_ = plt.subplot(132),plt.xticks(()),plt.yticks(()),plt.imshow(sdy2,cmap=\"gist_gray\"),plt.title('dy2')\n",
    "_ = plt.subplot(133),plt.xticks(()),plt.yticks(()),plt.imshow(sdxdy,cmap=\"gist_gray\"),plt.title('dxdy')"
   ]
  },
  {
   "cell_type": "markdown",
   "metadata": {},
   "source": [
    "Yhdistettyä osittaisderivaattaa tarvitsemme lähinnä silloin, jos haluamme\n",
    "muodostaa suunnatun suotimen. Nollakohtien laskemiseksi voimme käyttää Laplacen\n",
    "operaattoria. Voimme joko laskea yhteen $x$:n ja $y$:n suuntaiset\n",
    "osittaisderivaata, tai käyttää suoraan funktiota `cv.Laplacian()`, joka käyttää\n",
    "samoja derivaattaytimiä kuin me olemme käyttäneet yllä."
   ]
  },
  {
   "cell_type": "code",
   "execution_count": null,
   "metadata": {
    "collapsed": true
   },
   "outputs": [],
   "source": [
    "log = cv.Laplacian(img, ddepth=cv.CV_32F, ksize=15)\n",
    "\n",
    "plt.figure(figsize=(10,5))\n",
    "_ = plt.subplot(121),plt.xticks(()),plt.yticks(()),plt.imshow(log,cmap=\"gist_gray\"),plt.title('log')\n",
    "_ = plt.subplot(122),plt.xticks(()),plt.yticks(()),plt.imshow(sdx2+sdy2,cmap=\"gist_gray\"),plt.title('dx2+dy2')"
   ]
  },
  {
   "cell_type": "markdown",
   "metadata": {},
   "source": [
    "Näemme kuvasta, että reunan ympärillä on selkeästi tummia pikseleitä toisella\n",
    "puolella ja vaaleita toisella puolella. Välissä on nollakohta (harmaa väri\n",
    "vastaa tässä arvoa $0$).\n",
    "\n",
    "Ensimmäisen asteen derivaatan ääriarvokohtien etsiminen vaati ottamaan huomioon\n",
    "gradientin suunnan. Toisen asteen derivaatan nollakohtien etsimisessä suuntaa ei\n",
    "tarvitse huomioida, mutta yksinkertainen vertailu nollan kanssa ei toimi:\n",
    "derivaatta ei välttämättä ole täsmälleen nolla yhdenkään pikselin kohdalla, vaan\n",
    "oikea nollakohta on jossakin naapuripikselien välissä. Voimme kuitenkin\n",
    "päätellä, että nollakohta on jossakin tietyn pikselin lähistöllä, jos\n",
    "naapuripikseleillä on sekä nollaa suurempia että nollaa pienempiä arvoja."
   ]
  },
  {
   "cell_type": "code",
   "execution_count": null,
   "metadata": {
    "collapsed": true
   },
   "outputs": [],
   "source": [
    "eimg2 = np.zeros(img.shape,dtype=np.float32)\n",
    "edges2 = np.argwhere(mag > 0.05)\n",
    "for y,x in edges2:\n",
    "    neg = (log[y-1,x-1] < 0) or (log[y-1,x] < 0) or (log[y-1,x+1] < 0) or (log[y,x-1] < 0) or (log[y,x+1] < 0) or (log[y+1,x-1] < 0) or (log[y+1,x] < 0) or (log[y+1,x+1] < 0)\n",
    "    pos = (log[y-1,x-1] > 0) or (log[y-1,x] > 0) or (log[y-1,x+1] > 0) or (log[y,x-1] > 0) or (log[y,x+1] > 0) or (log[y+1,x-1] > 0) or (log[y+1,x] > 0) or (log[y+1,x+1] > 0)\n",
    "    if (neg and pos):\n",
    "        eimg2[y,x] = 1\n",
    "\n",
    "plt.figure(figsize=(5,5))\n",
    "_ = plt.xticks(()),plt.yticks(()),plt.imshow(eimg2, cmap=\"gist_gray\"),plt.title('2nd derivative zero')"
   ]
  },
  {
   "cell_type": "markdown",
   "metadata": {},
   "source": [
    "Löydetty reunakäyrä on ehjä, mutta se on myös monin paikoin yhtä pikseliä\n",
    "paksumpi. Jos haluaisimme paikallistaa reunan täsmällisen sijainnin, meidän\n",
    "pitäisi arvioida derivaatan muotoa ja laskea nollan ylitys kussakin ympäristössä\n",
    "pikseliä suuremmalla tarkkuudella. Tähän perustuu differentiaaligeometrinen\n",
    "reunanhaku: toisen asteen derivaatan muotoa arvioidaan kolmannen asteen\n",
    "derivaatan perusteella. Tämä kuitenkin menee yli tämän kurssin aihepiiristä, ja\n",
    "on useimpia käytännön sovelluksia ajatellen turhan raskastakin."
   ]
  },
  {
   "cell_type": "markdown",
   "metadata": {},
   "source": [
    "## Nurkkien etsiminen\n",
    "\n",
    "Kuten muistamme, reunoja löytyy sieltä, missä on selkeä gradientti. Nurkkia taas\n",
    "löytyy sieltä, missä on kaksi voimakasta gradienttia eri suuntiin. Tutustumme\n",
    "nyt Harrisin menetelmään sekä Hessen matriisiin perustuvaan menetelmään nurkkien\n",
    "löytämiseksi. Käytämme tuttua neliökuvaa."
   ]
  },
  {
   "cell_type": "code",
   "execution_count": null,
   "metadata": {
    "collapsed": true
   },
   "outputs": [],
   "source": [
    "img = cv.GaussianBlur(cv.imread(\"../images/rect2.png\", cv.IMREAD_GRAYSCALE), (9,9), 0)\n",
    "\n",
    "plt.figure(figsize=(5,5))\n",
    "_ = plt.xticks(()),plt.yticks(()),plt.imshow(img, cmap=\"gist_gray\"),plt.title('original')"
   ]
  },
  {
   "cell_type": "markdown",
   "metadata": {},
   "source": [
    "Harrisin menetelmässä meidän täytyy saada laskettua ensimmäisen asteen\n",
    "derivaattojen keskiarvoja kunkin pikselin ympäristössä. Luonteva tapa on käyttää\n",
    "yksinkertaisesti Gaussin suodinta. Keskiarvosuodinkin olisi toki käyttökelpoinen\n",
    "tässä tapauksessa."
   ]
  },
  {
   "cell_type": "code",
   "execution_count": null,
   "metadata": {
    "collapsed": true
   },
   "outputs": [],
   "source": [
    "sdx = cv.sepFilter2D(np.float32(img), ddepth=cv.CV_32F, kernelX=kdxx, kernelY=kdxy)\n",
    "sdy = cv.sepFilter2D(np.float32(img), ddepth=cv.CV_32F, kernelX=kdyx, kernelY=kdyy)\n",
    "\n",
    "dx_dx = sdx**2\n",
    "dy_dy = sdy**2\n",
    "dx_dy = sdx * sdy\n",
    "dx_dx_g = cv.GaussianBlur(dx_dx, (9,9), 0)\n",
    "dy_dy_g = cv.GaussianBlur(dy_dy, (9,9), 0)\n",
    "dx_dy_g = cv.GaussianBlur(dx_dy, (9,9), 0)\n",
    "\n",
    "# 2x2-matriisin determinantti ja jälki on helppo laskea tutuilla kaavoilla\n",
    "det_a = dx_dx_g * dy_dy_g - dx_dy_g**2\n",
    "trace_a = dx_dx_g + dy_dy_g\n",
    "\n",
    "# alpha on vapaasti valittava parametri, tyypillisesti väliltä 0.06 - 0.15\n",
    "alpha = 0.06\n",
    "# Harris arvioi kulman vahvuutta determinantin ja jäljen erotuksen suuruuden mukaan\n",
    "harris = det_a - (alpha * trace_a**2)\n",
    "# Szeliski ehdottaa sen sijaan determinantin ja jäljen suhteen käyttämistä; ei tarvita ylimääräistä parametria\n",
    "harmonic_mean = det_a / trace_a\n",
    "\n",
    "# Molempien tunnuslukujen kanssa voidaan etsiä paikalliset maksimit, tässä vain kynnystetään\n",
    "harris_threshold = 5\n",
    "harmonic_threshold = 1.8\n",
    "\n",
    "harris_img = harris > harris_threshold\n",
    "harmonic_img = harmonic_mean > harmonic_threshold\n",
    "\n",
    "plt.figure(figsize=(10,5))\n",
    "_ = plt.subplot(121),plt.xticks(()),plt.yticks(()),plt.imshow(harris_img,cmap=\"gist_gray\"),plt.title('harris')\n",
    "_ = plt.subplot(122),plt.xticks(()),plt.yticks(()),plt.imshow(harmonic_img,cmap=\"gist_gray\"),plt.title('harmonic')"
   ]
  },
  {
   "cell_type": "markdown",
   "metadata": {},
   "source": [
    "Hessen matriisiin perustuvassa menetelmässä käytetään toisen asteen\n",
    "derivaattoja. Determinantti ja jälki lasketaan samaan tapaan. Muistamme, että\n",
    "Hessen matriisin jälki on sama kuin Laplacen operaattorin arvo."
   ]
  },
  {
   "cell_type": "code",
   "execution_count": null,
   "metadata": {
    "collapsed": true
   },
   "outputs": [],
   "source": [
    "sdx2 = cv.sepFilter2D(np.float32(img), ddepth=cv.CV_32F, kernelX=kdx2x, kernelY=kdx2y)\n",
    "sdy2 = cv.sepFilter2D(np.float32(img), ddepth=cv.CV_32F, kernelX=kdy2x, kernelY=kdy2y)\n",
    "sdxdy = cv.sepFilter2D(np.float32(img), ddepth=cv.CV_32F, kernelX=kdxdyx, kernelY=kdxdyy)\n",
    "\n",
    "det_h = sdx2 * sdy2 - sdxdy**2\n",
    "trace_h = sdx2 + sdy2\n",
    "det_h_threshold = 1.5\n",
    "\n",
    "det_h_img = np.abs(det_h)\n",
    "trace_h_img = np.abs(trace_h)\n",
    "det_h_thresh = det_h > det_h_threshold\n",
    "\n",
    "plt.figure(figsize=(10,5))\n",
    "_ = plt.subplot(131),plt.xticks(()),plt.yticks(()),plt.imshow(det_h_img,cmap=\"gist_gray\"),plt.title('doh')\n",
    "_ = plt.subplot(132),plt.xticks(()),plt.yticks(()),plt.imshow(trace_h_img,cmap=\"gist_gray\"),plt.title('toh')\n",
    "_ = plt.subplot(133),plt.xticks(()),plt.yticks(()),plt.imshow(det_h_thresh,cmap=\"gist_gray\"),plt.title('doh>threshold')"
   ]
  },
  {
   "cell_type": "markdown",
   "metadata": {},
   "source": [
    "Näemme, että Hessen matriisin determinantti saa suurehkoja arvoja myös reunalla.\n",
    "Jälki puolestaan saa selkeän paikallisen ääriarvon nurkissa, kun taas reunan\n",
    "läheisyydessä se saa itseisarvoltaan suurehkoja reunan suuntaisella suoralla.\n",
    "Kohina vaikuttaa suhteellisen voimakkaasti, kuten toisen asteen derivaatoilta\n",
    "voi odottaakin. Suuremmat ytimet voivat tuottaa parempia tuloksia. Palaamme\n",
    "vielä nurkkien etsintään pistepiirteiden yhteydessä."
   ]
  },
  {
   "cell_type": "markdown",
   "metadata": {},
   "source": [
    "## Tehtäviä\n",
    "\n",
    "Kokeile erilaisia derivaattasuotimia ja reunan- ja nurkkienhakumenetelmiä omilla\n",
    "kuvillasi. Tutki, millaisia reunoja niillä löytyy; ovatko ne ehjiä vai\n",
    "katkonaisia? Voisiko katkenneita reunoja yrittää korjata jatkamalla niitä\n",
    "löytyneen reunan suuntaan? Kokeile myös eri kokoisia maskeja, ja yritä löytää\n",
    "sellainen koko, jolla löydät ongelmasi kannalta olennaiset reunat. Pohdi myös\n",
    "tulosten jatkojalostamista sovelluksesi kannalta.\n",
    "\n",
    "Jos käytät värikuvia, kokeile myös reunanetsintää eri värikanavilla, tai\n",
    "esimerkiksi värisävyn mukaan.\n",
    "\n",
    "Jos nurkkien tai pistemäisten möykkyjen etsiminen sopii ongelmaasi, kokeile myös\n",
    "näitä menetelmiä."
   ]
  },
  {
   "cell_type": "code",
   "execution_count": null,
   "metadata": {
    "collapsed": true
   },
   "outputs": [],
   "source": []
  }
 ],
 "metadata": {
  "kernelspec": {
   "display_name": "Python 3",
   "language": "python",
   "name": "python3"
  },
  "language_info": {
   "codemirror_mode": {
    "name": "ipython",
    "version": 3
   },
   "file_extension": ".py",
   "mimetype": "text/x-python",
   "name": "python",
   "nbconvert_exporter": "python",
   "pygments_lexer": "ipython3",
   "version": "3.6.1"
  }
 },
 "nbformat": 4,
 "nbformat_minor": 2
}
