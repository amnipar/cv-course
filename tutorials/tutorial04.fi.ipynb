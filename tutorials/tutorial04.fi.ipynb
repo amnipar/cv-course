{
 "cells": [
  {
   "cell_type": "markdown",
   "metadata": {},
   "source": [
    "# Tutoriaali 04 - Värikuvat ja värimuunnokset\n",
    "\n",
    "Tällä kerralla tutkitaan värikuvia ja kokeillaan monikanavaisten kuvien\n",
    "hajottamista osakanaviin ja kokoamista takaisin. Opimme myös muuntamaan kuvia\n",
    "väriavaruuksista toisiin.\n",
    "\n",
    "Ota aluksi tarvittavat kirjastot käyttöön suorittamalla alla oleva solu."
   ]
  },
  {
   "cell_type": "code",
   "execution_count": null,
   "metadata": {
    "collapsed": true
   },
   "outputs": [],
   "source": [
    "import math\n",
    "import cv2 as cv\n",
    "import numpy as np\n",
    "import matplotlib.pyplot as plt\n",
    "%matplotlib inline"
   ]
  },
  {
   "cell_type": "markdown",
   "metadata": {},
   "source": [
    "## Värimuunnokset \n",
    "\n",
    "Kokeile värimuunnoksia valitsemallasi kielellä käyttäen OpenCV-kirjaston\n",
    "funktiota `cv.cvtColor()`:\n",
    "\n",
    "<http://docs.opencv.org/2.4.13/modules/imgproc/doc/miscellaneous_transformations.html#cvtcolor>\n",
    "\n",
    "Hyödyllisin muunnos voi olla muunnos RGB-avaruudesta Lab-avaruuteen. Jos haluat\n",
    "muuntaa värikuvia harmaasävykuviksi, paras tapa saattaa olla muuntaa Lab-\n",
    "väriavaruuteen ja erottaa L-kanava.\n",
    "\n",
    "On tärkeää huomata, että OpenCV:ssä värikuvat ovat tyypillisesti oletuksena BGR-\n",
    "muodossa RGB-muodon sijaan; sininen ja punainen värikanava ovat siis vaihtaneet\n",
    "paikkaa. Tätä voi kokeilla kuvalla, jossa on kirkkaan sinisiä tai punaisia\n",
    "kohteita ja tallentamalla kunkin värikanavan omaksi kuvakseen\n",
    "\n",
    "Kuvan saa luettua värillisenä ja konvertoitua Lab-kuvaksi seuraavasti. Vaihda\n",
    "tähän jokin oma kuvasi tai muu itse valitsemasi värikäs kuva.\n",
    "\n",
    "Huomaa, että kuvan piirtämistä varten on tehtävä värimuunnos BGR-RGB! OpenCV\n",
    "käsittelee värikuvia oletuksena BGR-muodossa, jossa sininen ja punainen\n",
    "värikanava ovat vaihtaneet paikkaa. Jos värikuva näyttää hassulta, syynä voi\n",
    "olla tämä."
   ]
  },
  {
   "cell_type": "code",
   "execution_count": null,
   "metadata": {
    "scrolled": true
   },
   "outputs": [],
   "source": [
    "# kuvan lähde: www.freeimages.co.uk\n",
    "img = cv.cvtColor(cv.imread('../images/flora02053.jpg', cv.IMREAD_COLOR), cv.COLOR_BGR2RGB)\n",
    "#img = cv.imread('../images/flora02053.jpg', cv.IMREAD_COLOR)\n",
    "lab = cv.cvtColor(img, cv.COLOR_RGB2LAB) # BGR2LAB\n",
    "\n",
    "plt.figure(figsize=(8,8))\n",
    "_ = plt.xticks(()),plt.yticks(()),plt.imshow(img),plt.title('original')"
   ]
  },
  {
   "cell_type": "markdown",
   "metadata": {},
   "source": [
    "Värikanavat saa hajotettua erillisiksi kuviksi näin:"
   ]
  },
  {
   "cell_type": "code",
   "execution_count": null,
   "metadata": {},
   "outputs": [],
   "source": [
    "l,a,b = cv.split(lab)\n",
    "\n",
    "plt.figure(figsize=(15,5))\n",
    "_ = plt.subplot(131),plt.xticks(()),plt.yticks(()),plt.imshow(l,cmap=\"gist_gray\"),plt.title('L')\n",
    "_ = plt.subplot(132),plt.xticks(()),plt.yticks(()),plt.imshow(a,cmap=\"gist_gray\"),plt.title('a')\n",
    "_ = plt.subplot(133),plt.xticks(()),plt.yticks(()),plt.imshow(b,cmap=\"gist_gray\"),plt.title('b')"
   ]
  },
  {
   "cell_type": "markdown",
   "metadata": {},
   "source": [
    "## Muunnos napakoordinaatteihin\n",
    "\n",
    "Värisävy on hyödyllinen tieto, kun väri-informaatiota halutaan hyödyntää\n",
    "tunnistamisessa tai vaikkapa reunantunnistuksessa. Kokeile toteuttaa muunnos\n",
    "Lab-väriavaruudesta LCh(ab)-väriavaruuteen. Muistamme, että tämä vastaa\n",
    "muunnosta karteesisista koordinaateista napakoordinaatteihin, samaan tapaan kuin\n",
    "teimme laskiessamme Fourier-kertoimien amplitudin ja vaiheen. Nyt meillä on siis\n",
    "karteesiset värikkyyskoordinaatit $a$ ja $b$, joista haluamme laskea\n",
    "värikylläisyyden (joka on siis etäisyys valkoisesta pisteestä eli origosta ja\n",
    "vastaa Fourier-kertoimen amplitudia tai vektorin magnitudia) ja värisävyn (joka\n",
    "on siis kulma väriympyrällä ja vastaa Fourier-kertoimen vaihetta). Käytetään\n",
    "siis muunnokseen jälleen funktiota `cv.cartToPolar()`."
   ]
  },
  {
   "cell_type": "code",
   "execution_count": null,
   "metadata": {},
   "outputs": [],
   "source": [
    "c,h = cv.cartToPolar(np.float32(a),np.float32(b))\n",
    "\n",
    "plt.figure(figsize=(10,5))\n",
    "_ = plt.subplot(121),plt.xticks(()),plt.yticks(()),plt.imshow(c,cmap=\"gist_gray\"),plt.title('chroma')\n",
    "_ = plt.subplot(122),plt.xticks(()),plt.yticks(()),plt.imshow(h,cmap=\"gist_gray\"),plt.title('hue')"
   ]
  },
  {
   "cell_type": "markdown",
   "metadata": {},
   "source": [
    "Värisävyä hyödynnettäessä on syytä muistaa kaksi seikkaa: ensinnäkin värisävy\n",
    "saa arvoja joukosta, joka muodostaa ympyrän kehän eikä siis ole suora jolla\n",
    "olisi alku ja loppu. Funktio `cv.cartToPolar()` palauttaa oletuksena kulman\n",
    "radiaaneina väliltä $[0, 2 \\pi]$, ja tämän välin ääripäissä olevat värit ovat\n",
    "käytännössä sama väri. Värisävyjen eroa pitää siis mitata ympyrän kehää pitkin,\n",
    "huomioiden lyhyin etäisyys.\n",
    "\n",
    "Toinen muistettava seikka on, että värisävyä on vaikea määrittää, kun\n",
    "värikylläisyys on matala. Jos kuva-alue on lähes valkoinen tai lähes musta,\n",
    "värisävy voi olla melko satunnainen. Tämä on huomioitava vertailuissa.\n",
    "Värikylläisyyden voi tulkita värisävyn 'epävarmuutena', tai sitten tehdä\n",
    "värikylläisyydestä kynnystämällä maskin, jonka avulla sulkee värianalyysistä\n",
    "pois ne pikselit joiden värisävy on liian epävarma.\n",
    "\n",
    "Tutkitaan seuraavaksi, mitä LCh(ab)- ja Lab-väriavaruuden värit oikeastaan\n",
    "tarkoittavat. Kuten Fourier-muunnoksen kanssa, voimme tehdä tämän generoimalla\n",
    "kuvia kohdeavaruudessa ja tekemällä käänteismuunnoksen."
   ]
  },
  {
   "cell_type": "markdown",
   "metadata": {},
   "source": [
    "Tutkitaan ensin, mitä h-värikanavan värit oikeastaan ovat."
   ]
  },
  {
   "cell_type": "code",
   "execution_count": null,
   "metadata": {},
   "outputs": [],
   "source": [
    "w = 400\n",
    "h = 50\n",
    "size = (h,w)\n",
    "\n",
    "# generoidaan h-kanavan pikselien arvot x-koordinaatin mukaan välille [0, 2pi]\n",
    "def specValue(y,x):\n",
    "    return (x / w) * 2 * math.pi\n",
    "\n",
    "# h-kanavaan tulee siis kaikki mahdolliset kulmat [0, 2pi]\n",
    "spec_h = np.fromfunction(specValue, size, dtype=np.float32)\n",
    "# c-kanava on aluksi 1, jotta saadaan kaikki a- ja b-kanavien koordinaatit yksikköympyrälle\n",
    "spec_c = spec_l = np.ones(size, dtype=np.float32)\n",
    "# muunnetaan polaarikoordinaateista karteesisiksi a- ja b-koordinaateiksi\n",
    "spec_a, spec_b = cv.polarToCart(spec_c, spec_h, angleInDegrees=False)\n",
    "\n",
    "# OpenCV:ssä Lab-kuvan väriarvojen skaalat ovat [0,100], [-127,127], [-127,127]\n",
    "# käytetään L-kanavalla arvoa 60, jotta väristä ei tule niin kirkas että se palaa puhki näytöltä katsoessa\n",
    "# yhdistetään kanavat skaalattuina oikeille arvoväleille ja muunnetaan tavalliseksi värikuvaksi\n",
    "spec_img = cv.cvtColor(cv.merge([60*spec_l, 127*spec_a, 127*spec_b]), cv.COLOR_LAB2BGR)\n",
    "\n",
    "plt.figure(figsize=(10,5))\n",
    "_ = plt.xticks(()),plt.yticks(()),plt.imshow(spec_img),plt.title('h(ab) spectrum')"
   ]
  },
  {
   "cell_type": "markdown",
   "metadata": {
    "collapsed": true
   },
   "source": [
    "Kuten huomaamme, värisävyt kiertävät sinivioletista punaviolettiin vihreän ja\n",
    "keltaisen kautta, kuten oikeassakin spektrissä ja esimerkiksi sateenkaaressa.\n",
    "Seuraavaksi yritämme hahmottaa, mitä a- ja b-kanavien arvot tarkoittavat."
   ]
  },
  {
   "cell_type": "code",
   "execution_count": null,
   "metadata": {},
   "outputs": [],
   "source": [
    "w = 400\n",
    "h = 400\n",
    "s = 200\n",
    "size = (h,w)\n",
    "\n",
    "# generoidaan a-kanavan pikselien arvot x-koordinaatin mukaan välille [-127, 127]\n",
    "def aValue(y,x):\n",
    "    return ((x-s) / w) * 127\n",
    "\n",
    "# generoidaan b-kanavan pikselien arvot y-koordinaatin mukaan välille [-127, 127]\n",
    "# y-koordinaatti pitää peilata, koska kuvassa koordinaatti kasvaa ylhäältä alaspäin\n",
    "def bValue(y,x):\n",
    "    return (-(y-s) / w) * 127\n",
    "\n",
    "map_a = np.fromfunction(aValue, size, dtype=np.float32)\n",
    "map_b = np.fromfunction(bValue, size, dtype=np.float32)\n",
    "map_l = np.ones(size, dtype=np.float32) * 60\n",
    "\n",
    "map_img = cv.cvtColor(cv.merge([map_l, map_a, map_b]), cv.COLOR_LAB2BGR)\n",
    "\n",
    "plt.figure(figsize=(5,5))\n",
    "_ = plt.xticks(()),plt.yticks(()),plt.imshow(map_img),plt.title('Lab color map')"
   ]
  },
  {
   "cell_type": "markdown",
   "metadata": {},
   "source": [
    "Kuten huomaamme, värisävyt kiertävät vastapäivään alkaen oikealta keskeltä\n",
    "samassa järjestyksessä kuin spektrikuvassa. Värikylläisyys kasvaa kuvan keskeltä\n",
    "reunoille päin. Huomaamme myös, että neliön nurkissa on värikylläisempiä sävyjä.\n",
    "Luonnollisesti on myös selvää, että polaarikoordinaateiksi muunnettaessa neliön\n",
    "nurkkien kohdalla etäisyys origosta on suurempi kuin reunoilla. Jos siis\n",
    "värikylläisyys normalisoidaan, neliön nurkissa olevat värit leikkautuvat pois,\n",
    "tai sitten vinosuunnissa muunnosta pitää skaalata eri tavalla."
   ]
  },
  {
   "cell_type": "markdown",
   "metadata": {},
   "source": [
    "## Tehtäviä\n",
    "\n",
    "Jos kuvamateriaalisi on värikuvia, tutki miltä niiden värit näyttävät Lab-\n",
    "avaruudessa tai LCh(ab)-avaruudessa. Pohdi, millä tavalla voisit hyödyntää\n",
    "värejä ongelmasi ratkaisemisessa. Voit myös etsiä muita värikkäitä kuvia ja\n",
    "tutkia niitä oppimismielessä, jos väri-informaatio ei ole oleellista omassa\n",
    "työssäsi. Voit myös tutkia muita `cvtColor`-funktion tukemia väriavaruuksia\n",
    "vastaavasti kuin on tehty tässä.\n"
   ]
  }
 ],
 "metadata": {
  "kernelspec": {
   "display_name": "Python 3",
   "language": "python",
   "name": "python3"
  },
  "language_info": {
   "codemirror_mode": {
    "name": "ipython",
    "version": 3
   },
   "file_extension": ".py",
   "mimetype": "text/x-python",
   "name": "python",
   "nbconvert_exporter": "python",
   "pygments_lexer": "ipython3",
   "version": "3.6.3"
  }
 },
 "nbformat": 4,
 "nbformat_minor": 2
}
