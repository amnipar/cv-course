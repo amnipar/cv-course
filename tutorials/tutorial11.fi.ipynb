{
 "cells": [
  {
   "cell_type": "markdown",
   "metadata": {},
   "source": [
    "# Tutoriaali 11\n",
    "\n",
    "Ryhdymme kurssin loppua kohden käsittelemään yksittäisten kuvien sijaan koko\n",
    "kuva-aineistoa. Tällä kerralla opettelemme organisoimaan kokeilumme skripteiksi\n",
    "ja kokeilemme tilastollisen datan kokoamista kaikista valitsemistamme kuvista.\n",
    "Ryhdymme myös vähitellen harjoittelemaan perusmenetelmiä datan analysoimiseksi\n",
    "ja visualisoimiseksi.\n",
    "\n",
    "Tässä vaiheessa kaikki ovat jo tehneet monenlaisia kokeiluja yksittäisillä\n",
    "kuvilla ja löytäneet joitakin lupaavia tapoja esikäsitellä kuvia sopivampaan\n",
    "muotoon ongelman ratkaisemiseksi. Seuraava vaihe on valita joukko operaatioita,\n",
    "suorittaa ne kaikille kuville ja tallentaa lopputulos kuvatiedostoiksi.\n",
    "Riippuen valituista operaatioista saattaa olla järkevää tallentaa useita\n",
    "välivaiheita.\n",
    "\n",
    "Seuraavaksi kaikki tuloskuvat pitäisi käydä läpi ja arvioida, miten hyvin\n",
    "valitut operaatiot toimivat koko kuvajoukolle. Saattaa olla tarpeen säätää\n",
    "joitakin parametreja tai lisätä välivaiheita, jotta lopputulos olisi\n",
    "mahdollisimman hyvä mahdollisimman monelle kuvalle. On hyvin todennäköistä, että\n",
    "kuvajoukossa on joitakin kuvia, joille valitut operaatiot eivät toimi. Tässä\n",
    "tilanteessa ei kannata käyttää liikaa aikaa säätämiseen, vaan tyytyä\n",
    "epätäydelliseen tulokseen tai poistaa ongelmalliset kuvat. Voi olla tarpeen\n",
    "pohtia, miten ilmenneet ongelmat ratkaistaisiin valmiissa sovelluksessa."
   ]
  },
  {
   "cell_type": "markdown",
   "metadata": {},
   "source": [
    "## Esimerkki\n",
    "\n",
    "Tutkitaan yksinkertaisia geometrisia muotoja, kolmioita, neliöitä ja ympyröitä,\n",
    "jotka ovat vääristyneet eri tavoin. Lopullisessa sovelluksessa olisi tarkoitus\n",
    "selvitä myös valaistuksen vaihteluista ja varjoista, mutta tässä vaiheessa\n",
    "valaistus on yksinkertaisuuden vuoksi tasainen. Kohinaa on jonkin verran.\n",
    "\n",
    "Datajoukon kuvat voi ladata [täältä](http://users.jyu.fi/~amjayee/TIES411/shapes_v1.zip). Seuraavassa muutama \n",
    "esimerkki kuvista. Jotta tämä työkirja toimisi, kuvapaketti pitää purkaa samaan kansioon työkirjan kanssa.\n",
    "\n",
    "![Esimerkki datajoukon kuvista](./shapes.png)\n",
    "\n",
    "Tehdään skripti, joka lukee kaikki kuvat vuoron perään, suorittaa niille joukon\n",
    "operaatioita, ja tallentaa lopputuloksen kuvana uuteen tiedostoon tarkastelua\n",
    "varten. Tässä kohtaa on syytä huomata, että kuvia on parasta käsitellä yksi\n",
    "kerrallaan vuoron perään. Muisti loppuu hyvin pian nykyaikaisistakin\n",
    "tietokoneista, jos muistiin avataan samanaikaisesti satoja suuria kuvia. Tässä\n",
    "datajoukossa on 300 kpl noin 40 kilotavun kokoisia kuvia, joten niitä vielä\n",
    "pystyisi käsittelemään muistissa samanaikaisestikin, mutta tyypillisen\n",
    "datajoukon kuvat ovat huomattavasti suurempia.\n",
    "\n",
    "Ladataan taas aluksi tarvittavat kirjastot. Uutena tuttavuutena ryhdymme\n",
    "kokeilemaan pandas-kirjastoa datan käsittelyyn ja visualisointiin. Käytämme\n",
    "myös python `csv`-moduulia yksinkertaisena esimerkkinä datan lukemisesta."
   ]
  },
  {
   "cell_type": "code",
   "execution_count": null,
   "metadata": {},
   "outputs": [],
   "source": [
    "import cv2 as cv\n",
    "import numpy as np\n",
    "import pandas as pd\n",
    "import matplotlib.pyplot as plt\n",
    "import csv\n",
    "\n",
    "%matplotlib inline"
   ]
  },
  {
   "cell_type": "markdown",
   "metadata": {},
   "source": [
    "## CSV-tiedostojen käsittely\n",
    "\n",
    "On hyvä ajatus säilyttää dataa jossakin helposti luettavassa ja käsiteltävässä\n",
    "muodossa. Esimerkissämme käytämme CSV-tiedostoja, sillä\n",
    "\n",
    "* ne ovat helposti ihmisen luettavissa ja muokattavissa myös tekstieditorissa,\n",
    "* ne saa luettua sellaisenaan esimerkiksi Exceliin ja moniin muihinkin\n",
    "  työkaluihin jatkokäsittelyä ja visualisointeja varten, ja\n",
    "* tarvittaessa on helppo koodata itsekin työkaluja niiden käsittelyyn.\n",
    "\n",
    "Lähdemme liikkeelle siitä, että kuvailemme alkuperäisen datajoukkomme\n",
    "CSV-tiedoston riveinä. Kirjaamme tiedostoon kunkin kuvan polun ja tiedostonimen\n",
    "suhteessa tämän CSV-tiedoston sijaintiin, sekä kuvan esittämän kohteen luokan\n",
    "kokonaislukuina $1$, $2$, $3$. Sovelluksesta riippuen kuviin voi liittää mitä\n",
    "tahansa muutakin ennakkoon tiedossa olevaa tietoa, ja esimerkiksi loppuun voi\n",
    "jättää sarakkeen mahdollisia kommentteja varten.\n",
    "\n",
    "Saamme helposti muodostettua pohjan tiedostoa varten keräämällä kuvatiedostojen\n",
    "nimet jonkin kansion alikansioista vaikkapa komennolla\n",
    "\n",
    "```{.bash}\n",
    "ls -Rpx1 shapes > shapes.csv\n",
    "```\n",
    "\n",
    "Kirjoittamalla shell-skriptin saa liitettyä tiedostonimeen myös polun, mutta\n",
    "tämä kertaluontoinen työ on kohtuullisella vaivalla tehtävissä myös käsin\n",
    "tekstieditorissa.\n",
    "\n",
    "Tällaista datajoukon kuvailevaa tiedostoa kutsutaan joskus *manifestiksi*, joka\n",
    "on siis eräänlainen pakkausluettelo. Se auttaa systematisoimaan datan\n",
    "käsittelyä, mikä puolestaan on avuksi erilaisten kokeilujen toistamisessa\n",
    "tarpeen mukaan. Jos haluaa vaikkapa jättää osan kuvista pois kokeiluista\n",
    "väliaikaisesti tai kokonaan, tämän voi tehdä esimerkiksi lisäämällä manifestiin\n",
    "ylimääräisen sarakkeen, jonka arvon perusteella kuva jätetään käsittelemättä.\n",
    "Kommenttisarake auttaa muistamaan, mikä mahdollisesti oli syynä tiedoston pois\n",
    "jättämiseen, ja jos myöhemmin haluaa kokeilla jotakin uutta, kuva on edelleen\n",
    "olemassa ja sen saa helposti palautettua käsittelyyn. Jos taas kuvia tuhoaa ja\n",
    "lisää summittaisesti, eikä erilaisia kokeiluja dokumentoi millään tavalla, on\n",
    "todella hankalaa palata myöhemmin takaisin johonkin aiempaan tilanteeseen.\n",
    "\n",
    "Käytetään CSV-tiedoston lukemiseen pythonin `csv`-modulia. Sen avulla tiedoston\n",
    "rivit saa luettua kätevästi `dict`-olioiksi, jos csv-tiedoston ensimmäisellä\n",
    "rivillä on määritelty sarakkeiden nimet. Jos nimiä ei ole tiedostossa, ne saa\n",
    "myös kerrottua konstruktorin `fieldnames`-parametrilla. Rivien lukemisen\n",
    "yhteydessä on hyvä ajatus muuntaa sarakkeiden sisältö oikean tyyppiseksi.\n",
    "Esimerkissämme haluamme varmistaa, että luokkasarakkeen arvot ovat\n",
    "kokonaislukuja.  Konstruktorin parametreilla voi myös määritellä esimerkiksi\n",
    "sarakkeiden ja rivien erottimet, jos tiedoston formaatti on jokin muu kuin\n",
    "perinteinen."
   ]
  },
  {
   "cell_type": "code",
   "execution_count": null,
   "metadata": {},
   "outputs": [],
   "source": [
    "def read_data(filename):\n",
    "  result = []\n",
    "  with open(filename, 'r') as csvfile:\n",
    "    reader = csv.DictReader(csvfile, delimiter=\",\", skipinitialspace=True, quotechar=\"'\", lineterminator=\"\\n\")\n",
    "    for row in reader:\n",
    "      row[\"class\"] = np.int32(row[\"class\"])\n",
    "      result.append(row)\n",
    "  return result\n",
    "\n",
    "shapes = read_data('shapes.csv')\n",
    "print(shapes[0])"
   ]
  },
  {
   "cell_type": "markdown",
   "metadata": {},
   "source": [
    "## Datan käsittely\n",
    "\n",
    "Tehdään kuville yksinkertainen gaussinen suodatus kohinan poistamiseksi sekä\n",
    "kynnystys käyttäen kiinteää kynnysarvoa. Kerätään samalla kuvista esimerkin\n",
    "vuoksi kohteeseen kuuluvien pikselien kokonaismäärä, jota kutsumme 'massaksi'.\n",
    "Kirjoitetaan tuloksena syntyvä kuva toiseen tiedostoon, jotta voimme \n",
    "tarvittaessa tarkistaa, millaiseen lopputulokseen kerätty data perustuu.\n",
    "Kirjoitetaan käsittelyoperaatioista sellainen funktio, jota voimme käyttää \n",
    "`map`-operaatiolla koko datajoukkoon. Se ottaa siis parametrina csv-tiedostosta\n",
    "luetun `dict`-olion ja paluttaa muokatun olion."
   ]
  },
  {
   "cell_type": "code",
   "execution_count": null,
   "metadata": {},
   "outputs": [],
   "source": [
    "def process(shape):\n",
    "  filename = shape[\"file\"]\n",
    "  img = cv.GaussianBlur(np.float32(cv.imread(filename, cv.IMREAD_GRAYSCALE)), (5,5), 1)\n",
    "  t = np.float32(img > 100)\n",
    "  m = np.sum(t)\n",
    "  shape[\"mass\"] = m\n",
    "  cv.imwrite(filename.replace('images', 'results'), t*255)\n",
    "  return shape\n",
    "\n",
    "output = list(map(process, shapes))\n",
    "print(output[0])"
   ]
  },
  {
   "cell_type": "markdown",
   "metadata": {},
   "source": [
    "Funktiosta palautuu takaisin siis vain `dict`-olio täydennettynä kerätyillä\n",
    "tiedoilla. Ladattu kuva tuhoutuu aikanaan funktiosta poistumisen jälkeen, joten\n",
    "se ei jää kuormittamaan muistia. Lopputuloksen tallentamiseksi\n",
    "csv-tiedostoon käytämme edelleen `csv`-modulia. Tiedostoon kirjoitettaessa\n",
    "sarakkeiden nimet täytyy luetella, jotta kirjoittaja tietää sarakkeiden oikean\n",
    "järjestyksen."
   ]
  },
  {
   "cell_type": "code",
   "execution_count": null,
   "metadata": {},
   "outputs": [],
   "source": [
    "def write_data(filename, data):\n",
    "  with open(filename, 'w') as resultfile:\n",
    "    writer = csv.DictWriter(resultfile, fieldnames=[\"file\",\"class\",\"mass\"], delimiter=\",\", quotechar=\"'\", quoting=csv.QUOTE_MINIMAL, lineterminator=\"\\n\")\n",
    "    writer.writeheader()\n",
    "    writer.writerows(data)\n",
    "\n",
    "write_data('results.csv', output)"
   ]
  },
  {
   "cell_type": "markdown",
   "metadata": {},
   "source": [
    "Voimme nyt toteuttaa esimerkkikokeilumme yksinkertaisesti lukemalla datajoukon\n",
    "tiedot manifestista, suorittamalla käsittelyfunktion koko datajoukolle\n",
    "`map`-operaation avulla, ja kirjoittamalla lopputuloksen uuteen tiedostoon.\n",
    "Näin saamme helposti dokumentoitua kokeilumme tekemällä kustakin oman skriptin\n",
    "ja tallentamalla tulokset eri tiedostoihin ja kuvakansioihin."
   ]
  },
  {
   "cell_type": "markdown",
   "metadata": {},
   "source": [
    "Ryhdymme nyt kokeilemaan alussa käyttöön ottamaamme `pandas`-kirjastoa. Se käsittelee dataa `DataFrame`-olioina, joilla on monenlaisia hyödyllisiä ominaisuuksia. Saamme muodostettua `DataFrame`-olion suoraan samasta datasta, jonka kirjoitimme edellä csv-tiedostoon. Lukemisen onnistumisen saa varmistettua piirtämällä taulukosta muutaman ensimmäisen rivin `head()`-funktiolla."
   ]
  },
  {
   "cell_type": "code",
   "execution_count": null,
   "metadata": {},
   "outputs": [],
   "source": [
    "sd = pd.DataFrame(output)\n",
    "sd.head()"
   ]
  },
  {
   "cell_type": "markdown",
   "metadata": {},
   "source": [
    "`DataFrame` koostuu riveistä, joille voi muodostaa indeksejä, sekä nimetyistä sarakkeista vastaavasti kuin csv-tiedosto. Voimme myös esimerkiksi lukea csv-tiedoston suoraan `DataFrame`-olioksi. Samaan tapaan kuin pythonin `csv`-moduuli, myös `pandas` lukee sarakkeiden nimet otsikkoriviltä, ja ne voi tarvittaessa antaa käsin. Sarakkeiden tyypit voi myös määritellä."
   ]
  },
  {
   "cell_type": "code",
   "execution_count": null,
   "metadata": {},
   "outputs": [],
   "source": [
    "data = pd.read_csv(\"./results.csv\", dtype={\"file\":\"str\", \"class\":np.int32, \"mass\":np.float32})\n",
    "data.head()"
   ]
  },
  {
   "cell_type": "markdown",
   "metadata": {},
   "source": [
    "Datasta saa helposti perustietoja ulos `describe()`-funktiolla."
   ]
  },
  {
   "cell_type": "code",
   "execution_count": null,
   "metadata": {},
   "outputs": [],
   "source": [
    "data.describe()"
   ]
  },
  {
   "cell_type": "markdown",
   "metadata": {},
   "source": [
    "Taulukosta saa irrotettua yhden sarakkeen normaalilla hakasulkumerkinnällä. Valikoidusta ja suodatetusta datan osasta saa erilaisia koostetietoja, esimerkiksi `unique()`-funktiolla saamme haettua sarakkeessa `class` esiintyvät yksilölliset arvot. Tämä on hyödyllistä varsinkin tutustuttaessa uuteen datasettiin."
   ]
  },
  {
   "cell_type": "code",
   "execution_count": null,
   "metadata": {},
   "outputs": [],
   "source": [
    "data[\"class\"].unique()"
   ]
  },
  {
   "cell_type": "markdown",
   "metadata": {},
   "source": [
    "Taulukkoa saa suodatettua samaan tapaan kuin numpy-matriiseja käyttämällä indeksointioperaatioita. Voimme esimerkiksi erotella eri luokkiin kuuluvat rivit omiksi taulukoikseen."
   ]
  },
  {
   "cell_type": "code",
   "execution_count": null,
   "metadata": {},
   "outputs": [],
   "source": [
    "triangles = data[data[\"class\"] == 1]\n",
    "quads = data[data[\"class\"] == 2]\n",
    "circles = data[data[\"class\"] == 3]\n",
    "circles.head()"
   ]
  },
  {
   "cell_type": "markdown",
   "metadata": {},
   "source": [
    "Yksittäisiä rivejä voi hakea indekseillä käyttäen `.loc()`-funktiota. Tässä on syytä huomata, että indeksi ei ole sama asia kuin tietyn taulukon rivinumero. Yllä näemme, että `circles`-taulukossa indeksin arvot alkavat edelleen $200$:sta. On tietysti hyödyllistä, että indeksit pysyvät samoina taulukkoa myllätessä, mutta joskus on hyvä saada haettua esille tietty rivi. Tämän saa tehtyä `.iloc()`-funktiolla."
   ]
  },
  {
   "cell_type": "code",
   "execution_count": null,
   "metadata": {},
   "outputs": [],
   "source": [
    "samples = [ triangles[\"file\"].iloc[0]\n",
    "          , quads[\"file\"].iloc[0]\n",
    "          , circles[\"file\"].iloc[0] ]\n",
    "timg = cv.imread(samples[0], cv.IMREAD_GRAYSCALE)\n",
    "qimg = cv.imread(samples[1], cv.IMREAD_GRAYSCALE)\n",
    "cimg = cv.imread(samples[2], cv.IMREAD_GRAYSCALE)\n",
    "\n",
    "plt.figure(figsize=(15,5))\n",
    "_ = plt.subplot(131),plt.xticks(()),plt.yticks(()),plt.imshow(timg, cmap=\"gist_gray\"),plt.title('triangle')\n",
    "_ = plt.subplot(132),plt.xticks(()),plt.yticks(()),plt.imshow(qimg, cmap=\"gist_gray\"),plt.title('quad')\n",
    "_ = plt.subplot(133),plt.xticks(()),plt.yticks(()),plt.imshow(cimg, cmap=\"gist_gray\"),plt.title('circle')"
   ]
  },
  {
   "cell_type": "markdown",
   "metadata": {},
   "source": [
    "Taulukon sarakkeista voi myös laskea erilaisia tunnuslukuja."
   ]
  },
  {
   "cell_type": "code",
   "execution_count": null,
   "metadata": {},
   "outputs": [],
   "source": [
    "m1 = triangles[\"mass\"].sum() / triangles.size\n",
    "m2 = quads[\"mass\"].sum() / quads.size\n",
    "m3 = circles[\"mass\"].sum() / circles.size\n",
    "s = max(m1,m2,m3)\n",
    "print((m1/s,m2/s,m3/s))"
   ]
  },
  {
   "cell_type": "markdown",
   "metadata": {},
   "source": [
    "Näemme, että eri objektien keskimääräinen massa on suunnilleen sama (mikä on tietysti tarkoituksellista). Luonnollisesti keskiarvon laskemista varten on myös valmis funktio."
   ]
  },
  {
   "cell_type": "code",
   "execution_count": null,
   "metadata": {},
   "outputs": [],
   "source": [
    "triangles[\"mass\"].mean()"
   ]
  },
  {
   "cell_type": "markdown",
   "metadata": {},
   "source": [
    "Taulukosta saa myös piirrettyä erilaisia kaavioita, voimme esimerkiksi tehdä kullekin luokalle erilliset histogrammit kohteiden massan jakaumasta. "
   ]
  },
  {
   "cell_type": "code",
   "execution_count": null,
   "metadata": {},
   "outputs": [],
   "source": [
    "_=data.hist(column=\"mass\", by=\"class\", sharex=True, sharey=True, range=(5500,8000), bins=30, layout=(1,3), figsize=(12,3))"
   ]
  },
  {
   "cell_type": "markdown",
   "metadata": {},
   "source": [
    "Parametreilla saamme asetettua kaikkien histogrammien arvoalueet samoiksi, jolloin ne ovat keskenään verrattavissa. Näemme, että vaikka kaikkien luokkien massan keskiarvo on suunnilleen sama, arvojen jakauma on melko erilainen.\n",
    "\n",
    "Käyttämällä komentoa `plt.figure()` on mahdollista piirtää useampi kaavio samaan koordinaatistoon. Voimme esimerkiksi piirtää arvioidun tiheysfunktiona massan jakaumille."
   ]
  },
  {
   "cell_type": "code",
   "execution_count": null,
   "metadata": {},
   "outputs": [],
   "source": [
    "plt.figure(figsize=(5,5))\n",
    "_=triangles[\"mass\"].plot.density()\n",
    "_=quads[\"mass\"].plot.density()\n",
    "_=circles[\"mass\"].plot.density()"
   ]
  },
  {
   "cell_type": "markdown",
   "metadata": {},
   "source": [
    "Jatkossa tutustumme tarkemmin `pandas`-kirjastoon ja mitä kaikkea sillä voi tehdä. Netistä löytyy myös paljon erilaisia tutoriaaleja ja kursseja, joista voi oppia enemmän yksityiskohtia tästä suositusta ja tehokkaasta työkalusta."
   ]
  },
  {
   "cell_type": "markdown",
   "metadata": {},
   "source": [
    "## Tehtäviä\n",
    "\n",
    "Tee python-skripti, joka lukee kaikki aineistosi kuvat, suorittaa niille\n",
    "valitsemasi esikäsittelyoperaation ja tallentaa tulokset erilliseen kansioon.\n",
    "Tarvittaessa voit tallentaa erikseen useita välivaiheita.\n",
    "\n",
    "Käy läpi tulokset. Jos kuvia on paljon, esimerkiksi yli sata, riittää käydä läpi\n",
    "jokin edustava osajoukko. Arvioi, miten hyvin valitsemasi operaatio toimii.\n",
    "Pitäisikö jotakin parantaa? Kuinka ongelmia voisi mahdollisesti yrittää välttää\n",
    "tai korjata lopullisessa sovelluksessa?\n",
    "\n",
    "Mieti samalla jo alustavasti, millaisia numeerisia piirretietoja voisit laskea\n",
    "kuvista ongelmasi ratkaisemista varten."
   ]
  }
 ],
 "metadata": {
  "kernelspec": {
   "display_name": "Python 3",
   "language": "python",
   "name": "python3"
  }
 },
 "nbformat": 4,
 "nbformat_minor": 2
}
