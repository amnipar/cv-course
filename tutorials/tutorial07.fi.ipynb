{
 "cells": [
  {
   "cell_type": "markdown",
   "metadata": {},
   "source": [
    "## Tutoriaali 7: Skaala-avaruus\n",
    "\n",
    "Tällä kertaa tutustutaan skaala-avaruuden käyttämiseen ja kuvien analysoimiseen\n",
    "useissa skaaloissa, muun muassa kuvapyramidien avulla.\n",
    "\n",
    "Ota aluksi käyttöön tarvittavat kirjastot suorittamalla alla oleva solu."
   ]
  },
  {
   "cell_type": "code",
   "execution_count": null,
   "metadata": {
    "collapsed": true
   },
   "outputs": [],
   "source": [
    "import math\n",
    "import cv2 as cv\n",
    "import numpy as np\n",
    "import matplotlib.pyplot as plt\n",
    "\n",
    "%matplotlib inline"
   ]
  },
  {
   "cell_type": "markdown",
   "metadata": {},
   "source": [
    "Ladataan seuraavaksi jälleen käsiteltävä kuva."
   ]
  },
  {
   "cell_type": "code",
   "execution_count": null,
   "metadata": {},
   "outputs": [],
   "source": [
    "img = np.float32(cv.imread(\"../images/rect2.png\",cv.IMREAD_GRAYSCALE))\n",
    "\n",
    "plt.figure(figsize=(5,5))\n",
    "_ = plt.xticks(()),plt.yticks(()),plt.imshow(img,cmap='gist_gray'),plt.title('original')"
   ]
  },
  {
   "cell_type": "markdown",
   "metadata": {},
   "source": [
    "## Gaussin pyramidi\n",
    "\n",
    "Tyypillinen tapa muodostaa diskreetti skaala-avaruus on vuoroin\n",
    "alipäästösuodattaa kuvaa Gaussin ytimellä ja skaalata kuvaa puolta pienemmäksi.\n",
    "Tätä varten OpenCV:ssä on funktio `cv.pyrDown()`. Se alipäästösuodattaa kuvan\n",
    "ja pudottaa sitten kuvan resoluution puoleen tiputtamalla parittomat pikselit\n",
    "pois."
   ]
  },
  {
   "cell_type": "code",
   "execution_count": null,
   "metadata": {},
   "outputs": [],
   "source": [
    "# rajataan kuvaa, jotta sen saa jaettua tasan riittävän monta kertaa\n",
    "orig = img[0:400,0:400]\n",
    "\n",
    "gp = [orig.copy()]\n",
    "for i in range(4):\n",
    "    gp.append(cv.pyrDown(gp[i]))\n",
    "\n",
    "plt.figure(figsize=(15,5))\n",
    "_ = plt.subplot(151),plt.xticks(()),plt.yticks(()),plt.imshow(gp[0],cmap=\"gist_gray\"),plt.title('scale 0')\n",
    "_ = plt.subplot(152),plt.xticks(()),plt.yticks(()),plt.imshow(gp[1],cmap=\"gist_gray\"),plt.title('scale 1')\n",
    "_ = plt.subplot(153),plt.xticks(()),plt.yticks(()),plt.imshow(gp[2],cmap=\"gist_gray\"),plt.title('scale 2')\n",
    "_ = plt.subplot(154),plt.xticks(()),plt.yticks(()),plt.imshow(gp[3],cmap=\"gist_gray\"),plt.title('scale 4')\n",
    "_ = plt.subplot(155),plt.xticks(()),plt.yticks(()),plt.imshow(gp[4],cmap=\"gist_gray\"),plt.title('scale 16')"
   ]
  },
  {
   "cell_type": "markdown",
   "metadata": {},
   "source": [
    "Lopputuloksena taulukossa `gp` on sarja toinen toistaan pienempiä versioita\n",
    "samasta kuvasta. Tätä tulosta voitaisiin jo käyttää hyödyksi esimerkiksi\n",
    "etsimällä reunoja tai nurkkia useassa eri skaalassa.\n",
    "\n",
    "OpenCV:n toteutus on tarkka kuvien koosta. Käytettävien kuvien dimensioiden\n",
    "pitäisi olla kahdella jaollisia riittävän monta kertaa pyramidin tasojen\n",
    "muodostamiseksi. Muuten, skaalatessa kuvia takaisin alkuperäiseen kokoon, tulos\n",
    "ei enää välttämättä olekaan saman kokoinen kuin alkuperäinen. Onkin syytä joko\n",
    "skaalata alkuperäinen kuva sopivan kokoiseksi tai ottaa kuvan keskeltä sopivan\n",
    "kokoinen osa.\n",
    "\n",
    "Muistamme, että skaala-avaruuden parametri $t$ vastaa suodattavan Gaussin\n",
    "funktion varianssia $\\sigma^2$. OpenCV:n toteutuksessa suodatus tehdään\n",
    "konvolvoimalla maskilla\n",
    "\n",
    "$$\\frac{1}{256} \\begin{bmatrix} \n",
    "1 & 4 & 6 & 4 & 1  \\\\ \n",
    "4 & 16 & 24 & 16 & 4  \\\\ \n",
    "6 & 24 & 36 & 24 & 6  \\\\ \n",
    "4 & 16 & 24 & 16 & 4  \\\\ \n",
    "1 & 4 & 6 & 4 & 1 \n",
    "\\end{bmatrix}.$$\n",
    "\n",
    "Tämä on luonnollisesti rakennettu mahdollisimman nopea toteutus mielessä, joten\n",
    "se ei ole kaikilta osin täysin ihanteellinen. Tarkemmin tutkimalla se vastaa\n",
    "osapuilleen $\\sigma$:n arvoa $1.04$, eli osapuilleen skaalaa $1.08$. Pyramidin\n",
    "ensimmäisen tason skaalan tulisi kuitenkin olla $1$, joten jos haluaa\n",
    "teoreettisesti aavistuksen tarkemman tuloksen, pitäisi käyttää $\\sigma$:n arvoa\n",
    "$1$. Käytännössä tulos on kuitenkin riittävän hyvä. On kuitenkin hyvä tietää\n",
    "$\\sigma$:n arvo, jos halutaan verrata keskenään Laplacen pyramidin tasoja.\n",
    "\n",
    "Koska pyramidi muodostetaan pienentämällä suodatettu kuva puoleen ja\n",
    "suodattamalla sitten uudelleen samalla maskilla, tässä esimerkissä muodostuvat\n",
    "skaalat ovat $0$, $1$, $2$, $4$ ja $8$."
   ]
  },
  {
   "cell_type": "markdown",
   "metadata": {},
   "source": [
    "## Laplacen pyramidi\n",
    "\n",
    "Erittäin hyödyllinen skaala-avaruuden muoto on Laplacen pyramidi. Se\n",
    "muodostetaan tyypillisesti Gaussin pyramidin avulla, lähtien liikkeelle\n",
    "suurimmasta skaalasta eli pienimmästä kuvasta, skaalaamalla se kaksinkertaiseksi\n",
    "funktiolla `cv.pyrUp()`, ja laskemalla pikseleittäin erotus pyramidin seuraavan\n",
    "tason kanssa."
   ]
  },
  {
   "cell_type": "code",
   "execution_count": null,
   "metadata": {},
   "outputs": [],
   "source": [
    "lp = [gp[4].copy()]\n",
    "for i in range(4, 0, -1):\n",
    "    lp.append(cv.subtract(gp[i-1], cv.pyrUp(gp[i])))\n",
    "\n",
    "plt.figure(figsize=(15,5))\n",
    "_ = plt.subplot(151),plt.xticks(()),plt.yticks(()),plt.imshow(lp[0],cmap=\"gist_gray\"),plt.title('level 0')\n",
    "_ = plt.subplot(152),plt.xticks(()),plt.yticks(()),plt.imshow(lp[1],cmap=\"gist_gray\"),plt.title('level 1')\n",
    "_ = plt.subplot(153),plt.xticks(()),plt.yticks(()),plt.imshow(lp[2],cmap=\"gist_gray\"),plt.title('level 2')\n",
    "_ = plt.subplot(154),plt.xticks(()),plt.yticks(()),plt.imshow(lp[3],cmap=\"gist_gray\"),plt.title('level 3')\n",
    "_ = plt.subplot(155),plt.xticks(()),plt.yticks(()),plt.imshow(lp[4],cmap=\"gist_gray\"),plt.title('level 4')"
   ]
  },
  {
   "cell_type": "markdown",
   "metadata": {},
   "source": [
    "Lopputuloksena taulukossa on ensimmäisenä voimakkaasti alipäästösuodatettu kuva\n",
    "ja sen jälkeen *Difference of Gaussians* -tyyppisiä approksimaatioita Laplacen\n",
    "operaattorista. Jos kaikki taulukon kuvat skaalaa alkuperäisen kokoiseksi ja\n",
    "laskee ne pikseleittäin yhteen, pitäisi lopputuloksena olla alkuperäinen kuva\n",
    "tai hyvin lähelle sitä. Pyramidin tasot nimittäin pitävät sisällään\n",
    "alipäästösuodattimien poistamat kuvan yksityiskohdat, joten lisäämällä ne\n",
    "takaisin alkaen karkeimmasta kuvasta saadaan palautettua alkuperäinen kuva.\n",
    "\n",
    "Palauttamista varten pitää suurentaa jokaista pyramidin tasoa niin monta kertaa,\n",
    "että lopputulos on alkuperäisen kokoinen. Funktio `cv.pyrUp()` myös suodattaa\n",
    "kaksinkertaiseksi suurennettua kuvaa, jotta lopputulos ei olisi kulmikas."
   ]
  },
  {
   "cell_type": "code",
   "execution_count": null,
   "metadata": {},
   "outputs": [],
   "source": [
    "rp = lp.copy()\n",
    "for i in range(0, 4):\n",
    "    for j in range(i,4):\n",
    "        rp[i] = cv.pyrUp(rp[i])\n",
    "\n",
    "plt.figure(figsize=(15,5))\n",
    "_ = plt.subplot(151),plt.xticks(()),plt.yticks(()),plt.imshow(rp[0],cmap=\"gist_gray\"),plt.title('level 0')\n",
    "_ = plt.subplot(152),plt.xticks(()),plt.yticks(()),plt.imshow(rp[1],cmap=\"gist_gray\"),plt.title('level 1')\n",
    "_ = plt.subplot(153),plt.xticks(()),plt.yticks(()),plt.imshow(rp[2],cmap=\"gist_gray\"),plt.title('level 2')\n",
    "_ = plt.subplot(154),plt.xticks(()),plt.yticks(()),plt.imshow(rp[3],cmap=\"gist_gray\"),plt.title('level 3')\n",
    "_ = plt.subplot(155),plt.xticks(()),plt.yticks(()),plt.imshow(rp[4],cmap=\"gist_gray\"),plt.title('level 4')"
   ]
  },
  {
   "cell_type": "markdown",
   "metadata": {},
   "source": [
    "Lopputuloksena taulukossa `rp` on pyramidin tasot alkuperäisen kokoisina, joten\n",
    "ne voidaan seuraavaksi laskea yhteen."
   ]
  },
  {
   "cell_type": "code",
   "execution_count": null,
   "metadata": {
    "scrolled": true
   },
   "outputs": [],
   "source": [
    "rimg = rp[0].copy()\n",
    "for i in range(1,5):\n",
    "    rimg += rp[i]\n",
    "\n",
    "diff = np.abs(rimg - orig)\n",
    "_,maxdiff,_,_ = cv.minMaxLoc(diff)\n",
    "print(maxdiff)\n",
    "\n",
    "plt.figure(figsize=(15,5))\n",
    "_ = plt.subplot(131),plt.xticks(()),plt.yticks(()),plt.imshow(rimg,cmap=\"gist_gray\"),plt.title('restored')\n",
    "_ = plt.subplot(132),plt.xticks(()),plt.yticks(()),plt.imshow(orig,cmap=\"gist_gray\"),plt.title('original')\n",
    "_ = plt.subplot(133),plt.xticks(()),plt.yticks(()),plt.imshow(diff,cmap=\"gist_gray\"),plt.title('difference')"
   ]
  },
  {
   "cell_type": "markdown",
   "metadata": {},
   "source": [
    "Kuten näemme, lopputulos on teräväreunainen ja melko lähellä alkuperäistä.\n",
    "Virhettä on hieman, ja vaikuttaisi siltä, että virheen suuruus riippuu kuvan\n",
    "alkuperäisestä kirkkaudesta. Erotuskuvan maksimiarvosta näemme kuitenkin, että\n",
    "virhe on suurimmillaankin mitätön; luennoijan kokeilussa maksimiarvo on 0.00006,\n",
    "eli takaisin tavuiksi muutettaessa häviävän pieni."
   ]
  },
  {
   "cell_type": "markdown",
   "metadata": {},
   "source": [
    "## Tehtäviä\n",
    "\n",
    "Kokeile pyramidioperaatioita omille kuvillesi. Pohdi, olisiko sinun\n",
    "sovelluksessasi tarvetta analysoida kuvia skaala-avaruudessa ja millä tavalla.\n",
    "\n",
    "Kokeile esimerkiksi reunanhakua useassa eri skaalassa ja vertaile tuloksia eri\n",
    "skaaloissa. Voit kokeilla myös käyttää matemaattisia operaatioita valitaksesi\n",
    "alkuperäisestä kuvasta vain ne reunat, jotka esiintyvät myös karkeammissa\n",
    "skaaloissa.\n",
    "\n",
    "Kokeile *Determinant of Hessian* -operaatiota skaala-avaruudessa. Yritä etsiä\n",
    "paikallinen maksimiarvo myös skaala-avaruudessa valitsemalla se skaala, jossa\n",
    "maksimiarvo on suurin."
   ]
  },
  {
   "cell_type": "code",
   "execution_count": null,
   "metadata": {
    "collapsed": true
   },
   "outputs": [],
   "source": []
  }
 ],
 "metadata": {
  "kernelspec": {
   "display_name": "Python 3",
   "language": "python",
   "name": "python3"
  },
  "language_info": {
   "codemirror_mode": {
    "name": "ipython",
    "version": 3
   },
   "file_extension": ".py",
   "mimetype": "text/x-python",
   "name": "python",
   "nbconvert_exporter": "python",
   "pygments_lexer": "ipython3",
   "version": "3.6.1"
  }
 },
 "nbformat": 4,
 "nbformat_minor": 2
}
