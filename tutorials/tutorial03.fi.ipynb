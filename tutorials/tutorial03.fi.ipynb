{
 "cells": [
  {
   "cell_type": "markdown",
   "metadata": {},
   "source": [
    "# Tutoriaali 3: Fourier-muunnos\n",
    "\n",
    "Tällä kertaa kokeilemme Fourier-muunnoksen laskemista kuvalle, tutkimme tuloksia ja kokeilemme erilaisten operaatioiden vaikutuksia lopputulokseen. Vaikka Fourier-muunnoksesta on vain rajallisesti käytännön hyötyä konenäössä, on tärkeää ymmärtää miten se toimii ja mitä se tekee. Aiheeseen liittyvät harjoitukset auttavat myös ymmärtämään kuvadatan luonnetta.\n",
    "\n",
    "Ota aluksi käyttöön tarvittavat kirjastot suorittamalla alla oleva solu."
   ]
  },
  {
   "cell_type": "code",
   "execution_count": null,
   "metadata": {
    "collapsed": true
   },
   "outputs": [],
   "source": [
    "import math\n",
    "import cv2 as cv\n",
    "import numpy as np\n",
    "import matplotlib.pyplot as plt\n",
    "%matplotlib inline"
   ]
  },
  {
   "cell_type": "markdown",
   "metadata": {},
   "source": [
    "Ladataan kuva tutkittavaksi. Vaihda tähän jokin itse valitsemasi kuva."
   ]
  },
  {
   "cell_type": "code",
   "execution_count": null,
   "metadata": {},
   "outputs": [],
   "source": [
    "img = cv.imread(\"../images/rect2.png\", cv.IMREAD_GRAYSCALE)\n",
    "\n",
    "plt.figure(figsize=(5,5))\n",
    "_ = plt.xticks(()),plt.yticks(()),plt.imshow(img, cmap=\"gist_gray\"),plt.title('original')"
   ]
  },
  {
   "cell_type": "markdown",
   "metadata": {},
   "source": [
    "Kuvan diskreetti Fourier-muunnos FFT-algoritmia käyttäen saadaan laskettua OpenCV:ssä funktiolla dft:"
   ]
  },
  {
   "cell_type": "code",
   "execution_count": null,
   "metadata": {},
   "outputs": [],
   "source": [
    "dft = cv.dft(np.float32(img), flags = cv.DFT_COMPLEX_OUTPUT)"
   ]
  },
  {
   "cell_type": "markdown",
   "metadata": {},
   "source": [
    "Huomatkaa, että kuvan pikselien on oltava liukulukuja. Tuloksena on samankokoinen kuva, jonka pikselit ovat kompleksilukuja. Tutkitaan, miltä tulos näyttää."
   ]
  },
  {
   "cell_type": "code",
   "execution_count": null,
   "metadata": {},
   "outputs": [],
   "source": [
    "re = dft[:,:,0]\n",
    "im = dft[:,:,1]\n",
    "\n",
    "# muuta takaisin biteiksi piirtämistä varten: voit kokeilla myös normalisoida histogrammin\n",
    "re_img = np.uint8(re) #cv.equalizeHist(np.uint8(real))\n",
    "im_img = np.uint8(im) #cv.equalizeHist(np.uint8(imag))\n",
    "\n",
    "plt.figure(figsize=(10,5))\n",
    "_ = plt.subplot(121),plt.xticks(()),plt.yticks(()),plt.imshow(re_img,cmap=\"gist_gray\"),plt.title('real part')\n",
    "_ = plt.subplot(122),plt.xticks(()),plt.yticks(()),plt.imshow(im_img,cmap=\"gist_gray\"),plt.title('imaginary part')"
   ]
  },
  {
   "cell_type": "markdown",
   "metadata": {},
   "source": [
    "Tässä pikselien arvot vastaavat siis Fourier-kertoimia. Jokainen numeropari määrää tietyntaajuisen siniaallon voimakkuuden ja vaiheen. Niistä on kuitenkin vaikea saada sellaisinaan mitään selvää. Fourier-muunnos onkin yleensä tapana esittää polaarimuodossa, josta voimakkuus ja vaihe on suoraan nähtävissä. Tätä ennen on tapana siirtää Fourier-muunnoksen tulosta puolikkaan kuvan verran alas ja oikealle. Syynä on se, että normaalissa tuloksessa pienimmät taajuudet ovat kulmissa. Hahmottamista helpottaa, jos pienimmät taajuudet ovat keskellä. Ennen käänteismuunnosta on vain muistettava siirtää tulos takaisin oikeaan asemaan."
   ]
  },
  {
   "cell_type": "code",
   "execution_count": null,
   "metadata": {},
   "outputs": [],
   "source": [
    "dft_shift = np.fft.fftshift(dft)\n",
    "re_shift = dft_shift[:,:,0]\n",
    "im_shift = dft_shift[:,:,1]\n",
    "\n",
    "amp_shift, pha_shift = cv.cartToPolar(re_shift,im_shift)\n",
    "# voidaan käyttää myös erillisiä funktioita\n",
    "# amp = cv.magnitude(real_shift,imag_shift)\n",
    "# pha = cv.phase(real_shift,imag_shift)\n",
    "\n",
    "# voit kokeilla myös normalisoida histogrammin\n",
    "eamp = np.uint8(np.log(amp_shift)) #cv2.equalizeHist(np.uint8(17*np.log(amp_shift)))\n",
    "epha = np.uint8(pha_shift) #cv2.equalizeHist(np.uint8(pha_shift))\n",
    "plt.figure(figsize=(10,5))\n",
    "_ = plt.subplot(121),plt.xticks(()),plt.yticks(()),plt.imshow(eamp,cmap=\"gist_gray\"),plt.title('amplitude')\n",
    "_ = plt.subplot(122),plt.xticks(()),plt.yticks(()),plt.imshow(epha,cmap=\"gist_gray\"),plt.title('phase')"
   ]
  },
  {
   "cell_type": "markdown",
   "metadata": {},
   "source": [
    "Huomaa, että ennen piirtämistä amplitudikuvasta otetaan pikseleittäin logaritmi (toisinaan se myös kerrotaan vakiolla, erityisesti normalisoitaessa tämä voi olla tarpeen). Syynä tähän on se, että kuvien Fourier-muunnoksessa taajuuskomponenttien amplitudit jakautuvat potenssilakijakauman mukaan: pienitaajuuksisten taajuuskomponenttien amplitudit ovat eksponentiaalisesti suurempia kuin suuritaajuksisten. Ottamalla logaritmi tämä ero saadaan tasoitettua, muuten kuva näkyy piirrettäessä väärin - joko enimmäkseen mustana tai sitten siten, että suurimmat komponentit häviävät näkyvistä. Funktiolla `cv.equalizeHist()` saa parannettua kontrastia vahvempien ja heikompien komponenttien välillä.\n",
    "\n",
    "Logaritmin edessä oleva kerroin on hihavakio, joka riippuu kuvasta. Normalisoidussa kuvassa tulee välillä keskelle mustaa, ja valitsemalla sopivan vakion tilanteen saa korjattua. Jos on tarpeen muokata kuvaa ja palauttaa takaisin käänteismuunnosta varten, tämän voi luonnollisesti tehdä ottamalla pikseleittäin eksponentti esimerkiksi funktiolla `np.exp()`.\n",
    "\n",
    "Vaihekuva ei edelleenkään kerro meille juuri mitään; se kuvaa, millä tavoin kutakin taajuuskomponenttia pitää 'siirtää' oikean lopputuloksen saamiseksi. Useimmilla kuvilla tämä näyttää enemmän tai vähemmän satunnaiselta. Palaamme myöhemmin vaiheen merkitykseen kuvissa. Amplitudikuvasta kuitenkin huomaamme, että siinä on selvästi erottuvia raitoja. Kaikilla samalla suoralla olevilla taajuuskomponenteilla on sama etenemissuunta; muistamme luentomonisteesta, että Fourier-kertoimen $(u,v)$ määräämän sinitasoaallon etenemissuunta on kohtisuoraan kulmassa $\\theta$ olevaa suoraa vastaan, kun kulman $tan(\\theta) = \\frac{u}{v}$. Kulma on sama, kun $\\frac{u}{v} = k$ jollekin vakiolle k, eli kun $u = kv$. Tämä määrää taajuustason suoran, jonka kulmakerron on $k$.\n",
    "\n",
    "Voimme siis todeta, että amplitudikuvan raidat aiheutuvat kuvassa olevista voimakkaista suorista reunoista. Raidat erottuvat selvästi, koska kuva on niin yksinkertainen. Monimutkaisemmissa kuvissa voi esiintyä samankaltaisia raitoja, jos kuvassa on paljon samansuuntaisia elementtejä, kuten puunrunkoja tai vaikkapa raitapaita."
   ]
  },
  {
   "cell_type": "markdown",
   "metadata": {},
   "source": [
    "Seuraavalla koodilla voimme havainnollistaa amplitudien jakaumaa. Muistetaan, että Fourier-kerrointa $(u,v)$ vastaava taajuus on $\\sqrt(u^2 + v^2)$. Teemme kuvan, jossa on jokaisen Fourier-muunnoksen pikselin kohdalla kyseisen kertoimen taajuus. Sitten plottaamme pareittain taajuudet ja amplitudit."
   ]
  },
  {
   "cell_type": "code",
   "execution_count": null,
   "metadata": {},
   "outputs": [],
   "source": [
    "amp = cv.magnitude(re, im)\n",
    "w,h = img.shape\n",
    "frequencies = np.zeros((w,h))\n",
    "for x in range(1,w):\n",
    "    for y in range(1,h):\n",
    "        frequencies[y,x] = math.sqrt(x**2 + y**2)\n",
    "_=plt.scatter(x=frequencies.ravel(), y=amp.ravel(), s=2) #y=np.log(amp).ravel())"
   ]
  },
  {
   "cell_type": "markdown",
   "metadata": {},
   "source": [
    "Tästä kuvasta havaitsemme kaksi asiaa: ensinnäkin sen, että suurin osa amplitudeista on lähellä nollaa, ja suuremmat amplitudit keskittyvät pieniin taajuuksiin. Toiseksi huomaamme sen, että suuria amplitudeja on keskittynyt myös kohtiin $400$ ja n. $565$. Tämä johtuu Fourier-muunnoksen periodisuudesta; taajuus $400$ on sama kuin taajuus $1$. Kuvan koko on $400 \\times 400$ pikseliä, ja suurin tällaiseen kuvaan mahtuva taajuus on $200$, eli siniaalto mahtuu tekemään $200$ täyttä heilahdusta. Suuremmat taajuudet aiheuttaisivat aliasoitumista, kuten muistamme näytteistystä koskeneesta luvusta. Mikä sitten tuo taajuus $565$ on? Luonnollisesti kulmittain etenevän aallon taajuus. Pikselit ovat neliöitä, joten etäisyys kulmasta kulmaan on suurempi kuin reunasta reunaan. Fourier-komponentin $(1,1)$ taajuus on $\\sqrt{2}$ eli n. $1.4$. Kuvan sisälle mahtuu yhtä monta täyttä heilahdusta kuin vaaka- tai pystysuoraankin, mutta koska etäisyys on suurempi, taajuuskin on. Tämä on digitaalisten kuvien tunnettu ongelma, ja aiheuttaa aliasoitumista eli 'portaikkoefektiä' vinoissa reunoissa. Tämän takia kaikista digitaalisista kuvista pitäisi suodattaa pois nämä liian suuret, 'vinoittaiset' taajuudet, eli suuremmat kuin kuvan koko jaettuna kahdella. Palaamme tähän asiaan hetken kuluttua, kun kokeilemme käänteismuunnosta muokatulle kuvalle, mutta ensin tutustumme käänteismuunnokseen hieman yksinkertaisempien esimerkkien avulla."
   ]
  },
  {
   "cell_type": "markdown",
   "metadata": {},
   "source": [
    "OpenCV:ssä Fourier-muunnos tehtiin funktiolla `cv.dft()`. Käänteismuunnosta varten on funktio `cv.idft()`, jolla annetaan parametrina kompleksiarvoinen kuva. Havainnollistetaan Fourier-kertoimien toimintaa ja käänteismuunnosta luomalla syötekuvia käsin."
   ]
  },
  {
   "cell_type": "code",
   "execution_count": null,
   "metadata": {},
   "outputs": [],
   "source": [
    "ex_amp = np.zeros((200,200), dtype=np.float32)\n",
    "ex_pha = np.zeros((200,200), dtype=np.float32)\n",
    "\n",
    "# tästä tulee keskimääräinen pikselin arvo, se voi olla mikä vain koska kuva normalisoidaan\n",
    "ex_amp[0,0] = 0.5\n",
    "# tämä tulee kertoimeksi sinille ja kosinille, se määrää aallon 'korkeuden'\n",
    "ex_amp[0,1] = 1\n",
    "# tämä on kulma, josta aalto lähtee liikkeelle\n",
    "ex_pha[0,1] = math.pi\n",
    "# voit lisätä vastaavasti lisää komponentteja\n",
    "ex_amp[1,1] = 1\n",
    "ex_pha[1,1] = 0\n",
    "\n",
    "# tämän pitäisi periaatteessa olla sama kuin ex_amp[0,0], mutta nähtävästi idft käyttää vain puolikasta kuvaa\n",
    "# näin voi tehdä, koska muunnos on symmetrinen\n",
    "# ex_amp[101,101] = 0.5\n",
    "# tämän pitäisi periaatteessa olla sama kuin ex_amp[0,i], mutta sitäkään idft ei käytä\n",
    "# ex_amp[0,N-i] = 1\n",
    "# ex_pha[0,N-i] = math.pi\n",
    "\n",
    "ex_re, ex_im = cv.polarToCart(ex_amp, ex_pha)\n",
    "ex_comp = np.stack((ex_re, ex_im),axis=2)\n",
    "\n",
    "# käänteismuunnos; myös cv.dft toimii, jos antaa myös lipun cv.DFT_INVERSE\n",
    "ex_real = cv.idft(ex_comp, flags=cv.DFT_REAL_OUTPUT)\n",
    "# numpyn vastaava funktio on irfft2, mutta se odottaa saavansa vain puolet Fourier-kertoimista kompleksilukumatriisina\n",
    "# kertominen 1j:llä tekee matriisista imaginaarisen, ja sitten sen voi vain laskea yhteen reaaliosan kanssa\n",
    "#ex_real = np.fft.irfft2(ex_re[:,0:100] + 1j * ex_im[:,0:100])\n",
    "\n",
    "# lopputuloksena olevan kuvan pikseliarvot vaihtelevat suuresti kertoimien määrän mukaan, joten skaalataan välille [0,1]\n",
    "m1, m2, p1, p2 = cv.minMaxLoc(ex_real)\n",
    "ex_norm = (ex_real - m1) / (m2 - m1)\n",
    "\n",
    "ex_img = np.uint8(255*ex_norm)\n",
    "plt.figure(figsize=(5,5))\n",
    "_ = plt.xticks(()),plt.yticks(()),plt.imshow(ex_img, cmap=\"gist_gray\"),plt.title('custom')"
   ]
  },
  {
   "cell_type": "markdown",
   "metadata": {},
   "source": [
    "Seuraavaksi voimmekin kokeilla muokata jonkin oikean kuvan Fourier-muunnosta. Kokeillaan poistaa edellä mainitut ongelmalliset, liian suuret 'kulmittaiset' taajuudet. Tämän saamme aikaan kertomalla kuvaa sopivalla maskilla. Tehdään maski:"
   ]
  },
  {
   "cell_type": "code",
   "execution_count": null,
   "metadata": {},
   "outputs": [],
   "source": [
    "size = img.shape\n",
    "h,w = size\n",
    "dy = h/2\n",
    "dx = w/2\n",
    "\n",
    "def testMask(y,x):\n",
    "    return np.sqrt((y-dy)**2 + (x-dx)**2) < dx-25\n",
    "\n",
    "mask = cv.blur(np.float32(np.fromfunction(testMask, size, dtype=np.float32)),(25,25))\n",
    "\n",
    "plt.figure(figsize=(5,5))\n",
    "_ = plt.xticks(()),plt.yticks(()),plt.imshow(mask, cmap=\"gist_gray\"),plt.title('mask')"
   ]
  },
  {
   "cell_type": "code",
   "execution_count": null,
   "metadata": {},
   "outputs": [],
   "source": [
    "# ensin kerrotaan maskilla\n",
    "amp_shift_masked = mask * amp_shift\n",
    "pha_shift_masked = mask * pha_shift\n",
    "\n",
    "# sitten muunnetaan polaarimuodosta karteesiseen muotoon\n",
    "re_shift_masked, im_shift_masked = cv.polarToCart(amp_shift_masked, pha_shift_masked)\n",
    "# yhdistetään reaali- ja imaginaariosa\n",
    "dft_shift_masked = np.stack((re_shift_masked, im_shift_masked), axis=2)\n",
    "# siirretään kertoimet takaisin oikeisiin paikkoihin\n",
    "dft_masked = np.fft.ifftshift(dft_shift_masked)\n",
    "# lopuksi tehdään käänteismuunnos\n",
    "img_masked = cv.idft(dft_masked, flags=cv.DFT_REAL_OUTPUT)\n",
    "\n",
    "plt.figure(figsize=(5,5))\n",
    "_ = plt.xticks(()),plt.yticks(()),plt.imshow(img_masked, cmap=\"gist_gray\"),plt.title('masked')"
   ]
  },
  {
   "cell_type": "markdown",
   "metadata": {},
   "source": [
    "Neliön reunan porraskuvio on selvästi pehmentynyt, mutta kohina ei ole vielä hävinnyt. Operaatio siis asettaa tiettyä rajaa suuremmat taajuuskomponentit nollaksi. Sumennus tekee siirtymästä hieman pehmeämmän. Parempi tulos kohinan poistamiseksi saadaan käyttämällä Gaussin funktiota. Gaussin funktion Fourier-muunnos on itsekin Gaussin funktio. Voit siis kokeilla generoida maskin, jonka arvot lasketaan Gaussin funktiolla (varmista, että pikselien summa on 1). Kuten muistamme, taajuustasossa konvoluutio muuttuu kertolaskuksi. Voit siis konvolvoida Gaussin funktiolla kertomalla Fourier-muunnoksen Gaussin funktiosta muodostuvalla maskilla samaan tapaan kuin on tehty yllä. Maskin keskellä oleva ikkuna saa olla yllättävän pieni ilman, että kuvassa oleva kohde muuttuu tunnistamattomaksi. Kuten muistamme, oleellisin tieto kohteen muodosta sisältyy muutamiin vahvimpiin taajuuskomponentteihin."
   ]
  },
  {
   "cell_type": "markdown",
   "metadata": {},
   "source": [
    "Lopuksi voisimme miettiä, mitä taajuuskomponenttien amplitudi ja vaihe oikeastaan kertovat. Intuitiivisesti lienee selvää tässä vaiheessa, että amplitudilla skaalataan siniaaltoja korkeammaksi ja matalammaksi. Olemme myös todenneet, että oleellisin tieto kohteen muodosta sisältyy pienimpiin taajuuksiin. Mutta mitä vaihe tekee? Teemme nyt kokeita, joiden perusteella voimme todeta, että nimenomaan vaihe sisältää olennaisen tiedon kuvan sisällöstä. Tämä on loogista: koska pienimmät taajuudet ovat tärkeimpiä, ja koska kaikissa kuvissa on nämä pienimmät taajuudet mukana kohtalaisen suurilla amplitudeilla, erilaisia muotoja saadaan aikaan vain siirtelemällä aaltoja eri tavoilla.\n",
    "\n",
    "Kokeillaan nyt asettaa vuorollaan amplitudi- ja vaihekomponentit vakioarvoon."
   ]
  },
  {
   "cell_type": "code",
   "execution_count": null,
   "metadata": {},
   "outputs": [],
   "source": [
    "amp, pha = cv.cartToPolar(re, im)\n",
    "const_amp = np.stack(cv.polarToCart(np.ones(size, dtype=np.float32), pha), axis=2)\n",
    "const_pha = np.stack(cv.polarToCart(amp, np.zeros(size, dtype=np.float32)), axis=2)\n",
    "\n",
    "const_amp_img = cv.idft(const_amp, flags=cv.DFT_REAL_OUTPUT)\n",
    "cm1, cm2, _, _ = cv.minMaxLoc(const_amp_img)\n",
    "print((cm1, cm2))\n",
    "const_amp_img = cv.equalizeHist(np.uint8(255 * ((const_amp_img - cm1) / (cm2 - cm1))))\n",
    "\n",
    "const_pha_img = cv.idft(const_pha, flags=cv.DFT_REAL_OUTPUT)\n",
    "cm1, cm2, _, _ = cv.minMaxLoc(const_pha_img)\n",
    "print((cm1, cm2))\n",
    "const_pha_img = cv.equalizeHist(np.uint8(255 * ((const_pha_img - cm1) / (cm2 - cm1))))\n",
    "\n",
    "plt.figure(figsize=(10,5))\n",
    "_ = plt.subplot(121),plt.xticks(()),plt.yticks(()),plt.imshow(const_amp_img,cmap=\"gist_gray\"),plt.title('amplitude = 1')\n",
    "_ = plt.subplot(122),plt.xticks(()),plt.yticks(()),plt.imshow(const_pha_img,cmap=\"gist_gray\"),plt.title('phase = 0')"
   ]
  },
  {
   "cell_type": "markdown",
   "metadata": {},
   "source": [
    "Yllä olevista kuvista saa jotakin selkoa amplitudin ja vaiheen merkityksestä. Vasemmalla, koska amplitudi on kaikkialla ykkönen, kuvassa on paljon voimakasta kohinaa. Kuitenkin, koska taajuuskomponentit ovat oikeilla paikoillaan, kohteen rakenne on vielä näkyvissä. Oikealla, kuvassa on oikeat taajuuskomponentit oikean vahvuisina, mutta taajuuskomponentteja ei ole siirrelty mihinkään. Sen takia kuvassa näyttää olevan oikeanlaisia osasia, mutta ne ovat kaikki kerääntyneet keskelle. Monimutkaisemmasta kuvasta voisi olla vaikea saada tämänkään vertaa selvää.\n",
    "\n",
    "Kokeile tehdä muitakin kokeiluja. Klassinen kokeilu on ottaa kaksi samankokoista kuvaa, ja vaihtaa niiden vaihekomponentit päikseen. Kumpaa kuvaa lopputuloksena oleva sekoitus muistuttaa enemmän? Yllä olevasta testistä voi saada paremman näköisen, kun amplitudikuvassa käyttää vakioarvon sijaan eksponentiaalisesti kuvan nurkkia kohti kasvavia arvoja. Voit myös kokeilla, mitä kuvassa näkyy, jos tällaisen amplitudikomponentin yhdistää satunnaisen tai vakioarvoisen vaihekomponentin kanssa."
   ]
  },
  {
   "cell_type": "code",
   "execution_count": null,
   "metadata": {
    "collapsed": true
   },
   "outputs": [],
   "source": []
  }
 ],
 "metadata": {
  "kernelspec": {
   "display_name": "Python 3",
   "language": "python",
   "name": "python3"
  },
  "language_info": {
   "codemirror_mode": {
    "name": "ipython",
    "version": 3
   },
   "file_extension": ".py",
   "mimetype": "text/x-python",
   "name": "python",
   "nbconvert_exporter": "python",
   "pygments_lexer": "ipython3",
   "version": "3.6.3"
  }
 },
 "nbformat": 4,
 "nbformat_minor": 2
}
